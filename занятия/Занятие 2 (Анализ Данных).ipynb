{
 "cells": [
  {
   "cell_type": "code",
   "execution_count": 1,
   "id": "9d0bef69",
   "metadata": {},
   "outputs": [],
   "source": [
    "import pandas as pd"
   ]
  },
  {
   "cell_type": "code",
   "execution_count": 2,
   "id": "3d40a19e",
   "metadata": {},
   "outputs": [
    {
     "data": {
      "text/html": [
       "<div>\n",
       "<style scoped>\n",
       "    .dataframe tbody tr th:only-of-type {\n",
       "        vertical-align: middle;\n",
       "    }\n",
       "\n",
       "    .dataframe tbody tr th {\n",
       "        vertical-align: top;\n",
       "    }\n",
       "\n",
       "    .dataframe thead th {\n",
       "        text-align: right;\n",
       "    }\n",
       "</style>\n",
       "<table border=\"1\" class=\"dataframe\">\n",
       "  <thead>\n",
       "    <tr style=\"text-align: right;\">\n",
       "      <th></th>\n",
       "      <th>category</th>\n",
       "      <th>item</th>\n",
       "      <th>calories</th>\n",
       "      <th>total_fat</th>\n",
       "      <th>calcium</th>\n",
       "      <th>sugars</th>\n",
       "      <th>protein</th>\n",
       "    </tr>\n",
       "  </thead>\n",
       "  <tbody>\n",
       "    <tr>\n",
       "      <th>0</th>\n",
       "      <td>Breakfast</td>\n",
       "      <td>Egg McMuffin</td>\n",
       "      <td>300</td>\n",
       "      <td>20</td>\n",
       "      <td>25</td>\n",
       "      <td>3</td>\n",
       "      <td>17</td>\n",
       "    </tr>\n",
       "    <tr>\n",
       "      <th>1</th>\n",
       "      <td>Breakfast</td>\n",
       "      <td>Egg White Delight</td>\n",
       "      <td>250</td>\n",
       "      <td>12</td>\n",
       "      <td>25</td>\n",
       "      <td>3</td>\n",
       "      <td>18</td>\n",
       "    </tr>\n",
       "    <tr>\n",
       "      <th>2</th>\n",
       "      <td>Breakfast</td>\n",
       "      <td>Sausage McMuffin</td>\n",
       "      <td>370</td>\n",
       "      <td>35</td>\n",
       "      <td>25</td>\n",
       "      <td>2</td>\n",
       "      <td>14</td>\n",
       "    </tr>\n",
       "    <tr>\n",
       "      <th>3</th>\n",
       "      <td>Breakfast</td>\n",
       "      <td>Sausage McMuffin with Egg</td>\n",
       "      <td>450</td>\n",
       "      <td>43</td>\n",
       "      <td>30</td>\n",
       "      <td>2</td>\n",
       "      <td>21</td>\n",
       "    </tr>\n",
       "    <tr>\n",
       "      <th>4</th>\n",
       "      <td>Breakfast</td>\n",
       "      <td>Sausage McMuffin with Egg Whites</td>\n",
       "      <td>400</td>\n",
       "      <td>35</td>\n",
       "      <td>25</td>\n",
       "      <td>2</td>\n",
       "      <td>21</td>\n",
       "    </tr>\n",
       "    <tr>\n",
       "      <th>...</th>\n",
       "      <td>...</td>\n",
       "      <td>...</td>\n",
       "      <td>...</td>\n",
       "      <td>...</td>\n",
       "      <td>...</td>\n",
       "      <td>...</td>\n",
       "      <td>...</td>\n",
       "    </tr>\n",
       "    <tr>\n",
       "      <th>255</th>\n",
       "      <td>Smoothies &amp; Shakes</td>\n",
       "      <td>McFlurry with Oreo Cookies (Small)</td>\n",
       "      <td>510</td>\n",
       "      <td>26</td>\n",
       "      <td>40</td>\n",
       "      <td>64</td>\n",
       "      <td>12</td>\n",
       "    </tr>\n",
       "    <tr>\n",
       "      <th>256</th>\n",
       "      <td>Smoothies &amp; Shakes</td>\n",
       "      <td>McFlurry with Oreo Cookies (Medium)</td>\n",
       "      <td>690</td>\n",
       "      <td>35</td>\n",
       "      <td>50</td>\n",
       "      <td>85</td>\n",
       "      <td>15</td>\n",
       "    </tr>\n",
       "    <tr>\n",
       "      <th>257</th>\n",
       "      <td>Smoothies &amp; Shakes</td>\n",
       "      <td>McFlurry with Oreo Cookies (Snack)</td>\n",
       "      <td>340</td>\n",
       "      <td>17</td>\n",
       "      <td>25</td>\n",
       "      <td>43</td>\n",
       "      <td>8</td>\n",
       "    </tr>\n",
       "    <tr>\n",
       "      <th>258</th>\n",
       "      <td>Smoothies &amp; Shakes</td>\n",
       "      <td>McFlurry with Reese's Peanut Butter Cups (Medium)</td>\n",
       "      <td>810</td>\n",
       "      <td>50</td>\n",
       "      <td>60</td>\n",
       "      <td>103</td>\n",
       "      <td>21</td>\n",
       "    </tr>\n",
       "    <tr>\n",
       "      <th>259</th>\n",
       "      <td>Smoothies &amp; Shakes</td>\n",
       "      <td>McFlurry with Reese's Peanut Butter Cups (Snack)</td>\n",
       "      <td>410</td>\n",
       "      <td>25</td>\n",
       "      <td>30</td>\n",
       "      <td>51</td>\n",
       "      <td>10</td>\n",
       "    </tr>\n",
       "  </tbody>\n",
       "</table>\n",
       "<p>260 rows × 7 columns</p>\n",
       "</div>"
      ],
      "text/plain": [
       "               category                                               item  \\\n",
       "0             Breakfast                                       Egg McMuffin   \n",
       "1             Breakfast                                  Egg White Delight   \n",
       "2             Breakfast                                   Sausage McMuffin   \n",
       "3             Breakfast                          Sausage McMuffin with Egg   \n",
       "4             Breakfast                   Sausage McMuffin with Egg Whites   \n",
       "..                  ...                                                ...   \n",
       "255  Smoothies & Shakes                 McFlurry with Oreo Cookies (Small)   \n",
       "256  Smoothies & Shakes                McFlurry with Oreo Cookies (Medium)   \n",
       "257  Smoothies & Shakes                 McFlurry with Oreo Cookies (Snack)   \n",
       "258  Smoothies & Shakes  McFlurry with Reese's Peanut Butter Cups (Medium)   \n",
       "259  Smoothies & Shakes   McFlurry with Reese's Peanut Butter Cups (Snack)   \n",
       "\n",
       "     calories  total_fat  calcium  sugars  protein  \n",
       "0         300         20       25       3       17  \n",
       "1         250         12       25       3       18  \n",
       "2         370         35       25       2       14  \n",
       "3         450         43       30       2       21  \n",
       "4         400         35       25       2       21  \n",
       "..        ...        ...      ...     ...      ...  \n",
       "255       510         26       40      64       12  \n",
       "256       690         35       50      85       15  \n",
       "257       340         17       25      43        8  \n",
       "258       810         50       60     103       21  \n",
       "259       410         25       30      51       10  \n",
       "\n",
       "[260 rows x 7 columns]"
      ]
     },
     "execution_count": 2,
     "metadata": {},
     "output_type": "execute_result"
    }
   ],
   "source": [
    "data = pd.read_csv('mcdonalds.csv')\n",
    "data"
   ]
  },
  {
   "cell_type": "markdown",
   "id": "98774457",
   "metadata": {},
   "source": [
    "Типы данных:\n",
    "  \n",
    "1. Количественные\n",
    "   - дисркетные (количество домой в районе)\n",
    "   - непрерывные (возраст, рост)\n",
    "2. Категориальные \n",
    "   - порядковые (звезды отеля, категория качества еды)\n",
    "   - номинальные (имя, цвет, место жительства): бинарные (да/нет, пол, 0/1)"
   ]
  },
  {
   "cell_type": "markdown",
   "id": "ab8aff8a",
   "metadata": {},
   "source": [
    "## Теория"
   ]
  },
  {
   "cell_type": "markdown",
   "id": "40ff8bc2",
   "metadata": {},
   "source": [
    "**Генеральная совокупность** - совокупность объектов, которые мы используем для исследования. \n",
    "**Выборка** - часть генеральной совокупности, которую отбирают для исследования. Наиболее репрезентативная. "
   ]
  },
  {
   "cell_type": "markdown",
   "id": "52ed95b1",
   "metadata": {},
   "source": [
    "**Частотные таблицы** - показывают, сколько раз то или иное значение переменной встречается в данных. "
   ]
  },
  {
   "cell_type": "markdown",
   "id": "cb6cadec",
   "metadata": {},
   "source": [
    "### Частотные таблицы"
   ]
  },
  {
   "cell_type": "markdown",
   "id": "38d9884b",
   "metadata": {},
   "source": [
    "круговая диаграмма показывает моду, распредление категориальной переменной (в процентах), в некоторых случаях показывает динамику или изменения"
   ]
  },
  {
   "cell_type": "markdown",
   "id": "97b56132",
   "metadata": {},
   "source": [
    "моду показывают круговая диаграмма, гистограмма и столбчатая диаграмма\n",
    "\n",
    "выбросы показывают диаграмма рассеяния, гистограмма и ящик с усами (он показывает только ВЫБРОСЫ)"
   ]
  },
  {
   "cell_type": "code",
   "execution_count": 5,
   "id": "440bea42",
   "metadata": {},
   "outputs": [
    {
     "data": {
      "text/plain": [
       "<AxesSubplot:>"
      ]
     },
     "execution_count": 5,
     "metadata": {},
     "output_type": "execute_result"
    },
    {
     "data": {
      "image/png": "[encoded data removed]",
      "text/plain": [
       "<Figure size 432x288 with 1 Axes>"
      ]
     },
     "metadata": {
      "needs_background": "light"
     },
     "output_type": "display_data"
    }
   ],
   "source": [
    "data['calories'].hist()"
   ]
  },
  {
   "cell_type": "code",
   "execution_count": 5,
   "id": "240dc4db",
   "metadata": {},
   "outputs": [
    {
     "data": {
      "text/plain": [
       "<AxesSubplot:ylabel='Frequency'>"
      ]
     },
     "execution_count": 5,
     "metadata": {},
     "output_type": "execute_result"
    },
    {
     "data": {
      "image/png": "[encoded data removed]",
      "text/plain": [
       "<Figure size 432x288 with 1 Axes>"
      ]
     },
     "metadata": {
      "needs_background": "light"
     },
     "output_type": "display_data"
    }
   ],
   "source": [
    "data['calories'].plot(kind='hist')"
   ]
  },
  {
   "cell_type": "code",
   "execution_count": 9,
   "id": "2f409a12",
   "metadata": {},
   "outputs": [
    {
     "data": {
      "text/plain": [
       "<AxesSubplot:>"
      ]
     },
     "execution_count": 9,
     "metadata": {},
     "output_type": "execute_result"
    },
    {
     "data": {
      "image/png": "[encoded data removed]",
      "text/plain": [
       "<Figure size 432x288 with 1 Axes>"
      ]
     },
     "metadata": {
      "needs_background": "light"
     },
     "output_type": "display_data"
    }
   ],
   "source": [
    "# гистограмма с промежутком bins равным 40\n",
    "data['calories'].hist(bins = 40)"
   ]
  },
  {
   "cell_type": "code",
   "execution_count": 6,
   "id": "914d7fbc",
   "metadata": {},
   "outputs": [
    {
     "data": {
      "text/plain": [
       "<AxesSubplot:ylabel='Frequency'>"
      ]
     },
     "execution_count": 6,
     "metadata": {},
     "output_type": "execute_result"
    },
    {
     "data": {
      "image/png": "[encoded data removed]",
      "text/plain": [
       "<Figure size 432x288 with 1 Axes>"
      ]
     },
     "metadata": {
      "needs_background": "light"
     },
     "output_type": "display_data"
    }
   ],
   "source": [
    "data['calories'].plot(kind = 'hist')"
   ]
  },
  {
   "cell_type": "code",
   "execution_count": 11,
   "id": "e8b5f4f5",
   "metadata": {},
   "outputs": [
    {
     "data": {
      "text/plain": [
       "<AxesSubplot:>"
      ]
     },
     "execution_count": 11,
     "metadata": {},
     "output_type": "execute_result"
    },
    {
     "data": {
      "image/png": "[encoded data removed]",
      "text/plain": [
       "<Figure size 432x288 with 1 Axes>"
      ]
     },
     "metadata": {
      "needs_background": "light"
     },
     "output_type": "display_data"
    }
   ],
   "source": [
    "# Линейный график -  непрерывные и дискретные - динамика, изменения, зависимость \n",
    "data['calories'].plot()"
   ]
  },
  {
   "cell_type": "code",
   "execution_count": 4,
   "id": "9a7f8854",
   "metadata": {},
   "outputs": [
    {
     "data": {
      "text/plain": [
       "<AxesSubplot:>"
      ]
     },
     "execution_count": 4,
     "metadata": {},
     "output_type": "execute_result"
    },
    {
     "data": {
      "image/png": "[encoded data removed]",
      "text/plain": [
       "<Figure size 432x288 with 1 Axes>"
      ]
     },
     "metadata": {
      "needs_background": "light"
     },
     "output_type": "display_data"
    }
   ],
   "source": [
    "# столбчатая диаграмма - категориальные, \n",
    "# дискретные - распределение переменной, динамику и изменения, показыывает моду\n",
    "data['category'].value_counts().plot(kind = 'bar')"
   ]
  },
  {
   "cell_type": "markdown",
   "id": "4c744ffe",
   "metadata": {},
   "source": [
    "## МЦТ - что в центре распределения?"
   ]
  },
  {
   "cell_type": "markdown",
   "id": "598ebeea",
   "metadata": {},
   "source": [
    "1. .mean() - среднее арифм\n",
    "2. .median() - медиана \n",
    "3. .mode() - мода  - наиболее часто встречающееся\n",
    "\n",
    "Должны быть одинаковыми, но такое бывает ОООООЧЕНЬ редко. Когда среднее больше или меньше медианы, это значит, что есть аномальные значения (большие или маленькие)"
   ]
  },
  {
   "cell_type": "code",
   "execution_count": null,
   "id": "44c174d0",
   "metadata": {},
   "outputs": [],
   "source": [
    "1 2 3 4 20  - 6 \n",
    "1 2 3 4 20  - 3\n",
    "1 2 3 4 - 2.5\n",
    "\n",
    "1 2 3 4 5 1 15 10 1\n",
    "1 1 1 2 3 4 5 10 15 \n",
    "\n",
    "1 1 1 2 2 2 3 4 5 \n",
    "\n",
    "20, 100, 120, 130, 150  - 104\n",
    "20, 100, 120, 130, 150    - 120"
   ]
  },
  {
   "cell_type": "markdown",
   "id": "8ce94e86",
   "metadata": {},
   "source": [
    "1. Среднее арифметические - непрерывные, бинарные переменные (0, 1) - долю единиц, дискретные (+-)\n",
    "2. Медиана - непрерывные, дискретные, порядковые (числами) \n",
    "3. Мода - для всех "
   ]
  },
  {
   "cell_type": "code",
   "execution_count": null,
   "id": "48c93c88",
   "metadata": {},
   "outputs": [],
   "source": [
    "1 0 0 0 0 1 "
   ]
  },
  {
   "cell_type": "code",
   "execution_count": 2,
   "id": "b1183bf1",
   "metadata": {},
   "outputs": [
    {
     "data": {
      "text/plain": [
       "0.3333333333333333"
      ]
     },
     "execution_count": 2,
     "metadata": {},
     "output_type": "execute_result"
    }
   ],
   "source": [
    "2/6"
   ]
  },
  {
   "cell_type": "code",
   "execution_count": null,
   "id": "7362f4fb",
   "metadata": {},
   "outputs": [],
   "source": [
    "1 2 3 1 4 1 1 "
   ]
  },
  {
   "cell_type": "code",
   "execution_count": null,
   "id": "77226e4a",
   "metadata": {},
   "outputs": [],
   "source": [
    "1 1 1 1 2 3 4 "
   ]
  },
  {
   "cell_type": "code",
   "execution_count": null,
   "id": "1a3ef762",
   "metadata": {},
   "outputs": [],
   "source": [
    "3 2 5 6 4 1 2\n",
    "\n",
    "1 2 2  4 5 6"
   ]
  },
  {
   "cell_type": "code",
   "execution_count": 4,
   "id": "7cf0562d",
   "metadata": {},
   "outputs": [
    {
     "data": {
      "text/plain": [
       "13.338461538461539"
      ]
     },
     "execution_count": 4,
     "metadata": {},
     "output_type": "execute_result"
    }
   ],
   "source": [
    "data['protein'].mean()"
   ]
  },
  {
   "cell_type": "code",
   "execution_count": 15,
   "id": "64518141",
   "metadata": {},
   "outputs": [
    {
     "data": {
      "text/plain": [
       "12.0"
      ]
     },
     "execution_count": 15,
     "metadata": {},
     "output_type": "execute_result"
    }
   ],
   "source": [
    "data['protein'].median()"
   ]
  },
  {
   "cell_type": "code",
   "execution_count": 3,
   "id": "8a634063",
   "metadata": {},
   "outputs": [
    {
     "data": {
      "text/plain": [
       "0    Coffee & Tea\n",
       "dtype: object"
      ]
     },
     "execution_count": 3,
     "metadata": {},
     "output_type": "execute_result"
    }
   ],
   "source": [
    "data['category'].mode()"
   ]
  },
  {
   "cell_type": "code",
   "execution_count": 4,
   "id": "43ddf4d8",
   "metadata": {},
   "outputs": [
    {
     "data": {
      "text/plain": [
       "'Coffee & Tea'"
      ]
     },
     "execution_count": 4,
     "metadata": {},
     "output_type": "execute_result"
    }
   ],
   "source": [
    "data['category'].mode()[0]"
   ]
  },
  {
   "cell_type": "markdown",
   "id": "d8e5c0c8",
   "metadata": {},
   "source": [
    "## Меры разброса - насколько наши данные разнообразные? "
   ]
  },
  {
   "cell_type": "markdown",
   "id": "1bd4d1d1",
   "metadata": {},
   "source": [
    "1. размах - макс минус мин - зависит от аномальных значений \n",
    "2. интерквартильный размах - не зависит от аномальных значений \n",
    "3. среднеквадратичное (стандартное) отклонение (.std()) - насколько в среднем наши значения отклоняются от среднего арифметического (чем оно больше, тем разнообразнее наши данные) - зависит от аномальных значений "
   ]
  },
  {
   "cell_type": "code",
   "execution_count": null,
   "id": "5375ab80",
   "metadata": {},
   "outputs": [],
   "source": [
    "15 30 25 16  \n",
    "1 15 30 25 16 100  \n",
    "\n",
    "1 15 16 25 30 100"
   ]
  },
  {
   "cell_type": "code",
   "execution_count": null,
   "id": "8aa8f15e",
   "metadata": {},
   "outputs": [],
   "source": [
    "# 1 2 3 4, 5 cреднее равно 3\n",
    "\n",
    "# найти отклонения - вычесть значения из среднего\n",
    "1-3=-2\n",
    "2-3=-1\n",
    "3-3=0\n",
    "4-3=1\n",
    "5-3=2\n",
    "\n",
    "# первое правило математики: сумма отклонений всегда дает 0\n",
    "# возводим отклонения в квадрат и только потом находим среднее\n",
    "-2=4\n",
    "-1=1\n",
    "0=0\n",
    "1=1\n",
    "2=4\n",
    "\n",
    "# сумма квадратичных отклонений равно 10\n",
    "10/5 = 2 - дисперсия (квадрат)\n",
    "\n",
    "1,4 - стандартное отклонение - корень из дисперсии "
   ]
  },
  {
   "cell_type": "code",
   "execution_count": 28,
   "id": "abf1f25d",
   "metadata": {},
   "outputs": [
    {
     "data": {
      "text/plain": [
       "87"
      ]
     },
     "execution_count": 28,
     "metadata": {},
     "output_type": "execute_result"
    }
   ],
   "source": [
    "# размах\n",
    "data['protein'].max()-data['protein'].min()"
   ]
  },
  {
   "cell_type": "code",
   "execution_count": 14,
   "id": "aaea0029",
   "metadata": {},
   "outputs": [
    {
     "data": {
      "text/plain": [
       "11.4261461638129"
      ]
     },
     "execution_count": 14,
     "metadata": {},
     "output_type": "execute_result"
    }
   ],
   "source": [
    "# стандартное/среднеквадратичное отклонение\n",
    "data['protein'].std()"
   ]
  },
  {
   "cell_type": "code",
   "execution_count": 11,
   "id": "00b841a3",
   "metadata": {},
   "outputs": [
    {
     "data": {
      "text/plain": [
       "130.0546745562131"
      ]
     },
     "execution_count": 11,
     "metadata": {},
     "output_type": "execute_result"
    }
   ],
   "source": [
    "# дисперсия  = std**2\n",
    "data['protein'].var() "
   ]
  },
  {
   "cell_type": "code",
   "execution_count": 16,
   "id": "21b0dd06",
   "metadata": {},
   "outputs": [
    {
     "data": {
      "text/plain": [
       "130.05"
      ]
     },
     "execution_count": 16,
     "metadata": {},
     "output_type": "execute_result"
    }
   ],
   "source": [
    "round(130.0546745562131,2)"
   ]
  },
  {
   "cell_type": "markdown",
   "id": "349b3f96",
   "metadata": {},
   "source": [
    "Интер(меж)квартильный размах - это разница между первым и третьим квартилем. Первый квартиль - это 25% значений в распределении, третий - 75%, а второй квартиль - это медиана (соответственно 50%)"
   ]
  },
  {
   "cell_type": "code",
   "execution_count": null,
   "id": "57d9fad3",
   "metadata": {},
   "outputs": [],
   "source": [
    "2 3 4 5 6 7 8"
   ]
  },
  {
   "cell_type": "code",
   "execution_count": null,
   "id": "24e41cfd",
   "metadata": {},
   "outputs": [],
   "source": [
    "1 2 3 20 25 24 35 40 45 60 67 100"
   ]
  },
  {
   "cell_type": "code",
   "execution_count": 30,
   "id": "85fb185b",
   "metadata": {},
   "outputs": [
    {
     "data": {
      "text/plain": [
       "15.0"
      ]
     },
     "execution_count": 30,
     "metadata": {},
     "output_type": "execute_result"
    }
   ],
   "source": [
    "import numpy as np\n",
    "q1 = np.percentile(data['protein'], 25)\n",
    "q3 = np.percentile(data['protein'], 75)\n",
    "iqr = q3-q1\n",
    "iqr"
   ]
  },
  {
   "cell_type": "code",
   "execution_count": 32,
   "id": "0150b885",
   "metadata": {},
   "outputs": [
    {
     "data": {
      "text/plain": [
       "15.0"
      ]
     },
     "execution_count": 32,
     "metadata": {},
     "output_type": "execute_result"
    }
   ],
   "source": [
    "np.percentile(data['protein'], 75) - np.percentile(data['protein'], 25) "
   ]
  },
  {
   "cell_type": "code",
   "execution_count": 9,
   "id": "bd382f40",
   "metadata": {},
   "outputs": [
    {
     "data": {
      "text/plain": [
       "15.0"
      ]
     },
     "execution_count": 9,
     "metadata": {},
     "output_type": "execute_result"
    }
   ],
   "source": [
    "# первая квартиль\n",
    "q1 = data['protein'].quantile(.25)\n",
    "# третья квартиль \n",
    "q3 = data['protein'].quantile(.75)\n",
    "iqr = q3 - q1\n",
    "iqr"
   ]
  },
  {
   "cell_type": "code",
   "execution_count": 10,
   "id": "52a96199",
   "metadata": {},
   "outputs": [
    {
     "data": {
      "text/plain": [
       "15.0"
      ]
     },
     "execution_count": 10,
     "metadata": {},
     "output_type": "execute_result"
    }
   ],
   "source": [
    "data['protein'].quantile(.75) - data['protein'].quantile(.25)"
   ]
  },
  {
   "cell_type": "markdown",
   "id": "1cd84be4",
   "metadata": {},
   "source": [
    "## Группировка"
   ]
  },
  {
   "cell_type": "markdown",
   "id": "68142cfa",
   "metadata": {},
   "source": [
    "data.groupby()[]"
   ]
  },
  {
   "cell_type": "markdown",
   "id": "7bfcba8f",
   "metadata": {},
   "source": [
    "для построения сводной таблицы: то что в рядах/строках пойдет в круглые скобки, то что в колонках/столбцах пойдет в квадратные скобки, то что в ячейках - это метод после квадратных скобок (например, .mean(), .sum())"
   ]
  },
  {
   "cell_type": "code",
   "execution_count": 7,
   "id": "f10726a3",
   "metadata": {},
   "outputs": [
    {
     "data": {
      "text/plain": [
       "category        protein\n",
       "Beef & Pork     22         4\n",
       "                24         2\n",
       "                37         2\n",
       "                12         1\n",
       "                15         1\n",
       "                          ..\n",
       "Snacks & Sides  14         2\n",
       "                0          1\n",
       "                2          1\n",
       "                6          1\n",
       "                15         1\n",
       "Name: protein, Length: 105, dtype: int64"
      ]
     },
     "execution_count": 7,
     "metadata": {},
     "output_type": "execute_result"
    }
   ],
   "source": [
    "data.groupby('category')['protein'].value_counts()"
   ]
  },
  {
   "cell_type": "code",
   "execution_count": 6,
   "id": "f2e79d7d",
   "metadata": {},
   "outputs": [
    {
     "data": {
      "text/plain": [
       "category\n",
       "Beef & Pork           23.000000\n",
       "Beverages              2.962963\n",
       "Breakfast             16.166667\n",
       "Chicken & Fish        15.444444\n",
       "Coffee & Tea          28.294737\n",
       "Desserts              11.428571\n",
       "Salads                15.000000\n",
       "Smoothies & Shakes    35.571429\n",
       "Snacks & Sides         6.000000\n",
       "Name: calcium, dtype: float64"
      ]
     },
     "execution_count": 6,
     "metadata": {},
     "output_type": "execute_result"
    }
   ],
   "source": [
    "data.groupby('category')['calcium'].mean()"
   ]
  },
  {
   "cell_type": "code",
   "execution_count": 5,
   "id": "426d7ff7",
   "metadata": {},
   "outputs": [
    {
     "data": {
      "text/plain": [
       "category\n",
       "Beef & Pork           494.000000\n",
       "Beverages             113.703704\n",
       "Breakfast             526.666667\n",
       "Chicken & Fish        552.962963\n",
       "Coffee & Tea          283.894737\n",
       "Desserts              222.142857\n",
       "Salads                270.000000\n",
       "Smoothies & Shakes    531.428571\n",
       "Snacks & Sides        245.769231\n",
       "Name: calories, dtype: float64"
      ]
     },
     "execution_count": 5,
     "metadata": {},
     "output_type": "execute_result"
    }
   ],
   "source": [
    "data.groupby('category')['calories'].mean()"
   ]
  },
  {
   "cell_type": "code",
   "execution_count": 8,
   "id": "db1aa755",
   "metadata": {},
   "outputs": [
    {
     "data": {
      "text/html": [
       "<div>\n",
       "<style scoped>\n",
       "    .dataframe tbody tr th:only-of-type {\n",
       "        vertical-align: middle;\n",
       "    }\n",
       "\n",
       "    .dataframe tbody tr th {\n",
       "        vertical-align: top;\n",
       "    }\n",
       "\n",
       "    .dataframe thead th {\n",
       "        text-align: right;\n",
       "    }\n",
       "</style>\n",
       "<table border=\"1\" class=\"dataframe\">\n",
       "  <thead>\n",
       "    <tr style=\"text-align: right;\">\n",
       "      <th></th>\n",
       "      <th>calories</th>\n",
       "      <th>protein</th>\n",
       "      <th>calcium</th>\n",
       "    </tr>\n",
       "    <tr>\n",
       "      <th>category</th>\n",
       "      <th></th>\n",
       "      <th></th>\n",
       "      <th></th>\n",
       "    </tr>\n",
       "  </thead>\n",
       "  <tbody>\n",
       "    <tr>\n",
       "      <th>Beef &amp; Pork</th>\n",
       "      <td>500.0</td>\n",
       "      <td>24.0</td>\n",
       "      <td>25.0</td>\n",
       "    </tr>\n",
       "    <tr>\n",
       "      <th>Beverages</th>\n",
       "      <td>100.0</td>\n",
       "      <td>0.0</td>\n",
       "      <td>0.0</td>\n",
       "    </tr>\n",
       "    <tr>\n",
       "      <th>Breakfast</th>\n",
       "      <td>470.0</td>\n",
       "      <td>19.0</td>\n",
       "      <td>15.0</td>\n",
       "    </tr>\n",
       "    <tr>\n",
       "      <th>Chicken &amp; Fish</th>\n",
       "      <td>480.0</td>\n",
       "      <td>27.0</td>\n",
       "      <td>15.0</td>\n",
       "    </tr>\n",
       "    <tr>\n",
       "      <th>Coffee &amp; Tea</th>\n",
       "      <td>270.0</td>\n",
       "      <td>10.0</td>\n",
       "      <td>30.0</td>\n",
       "    </tr>\n",
       "    <tr>\n",
       "      <th>Desserts</th>\n",
       "      <td>250.0</td>\n",
       "      <td>2.0</td>\n",
       "      <td>4.0</td>\n",
       "    </tr>\n",
       "    <tr>\n",
       "      <th>Salads</th>\n",
       "      <td>255.0</td>\n",
       "      <td>24.0</td>\n",
       "      <td>15.0</td>\n",
       "    </tr>\n",
       "    <tr>\n",
       "      <th>Smoothies &amp; Shakes</th>\n",
       "      <td>540.0</td>\n",
       "      <td>12.0</td>\n",
       "      <td>40.0</td>\n",
       "    </tr>\n",
       "    <tr>\n",
       "      <th>Snacks &amp; Sides</th>\n",
       "      <td>260.0</td>\n",
       "      <td>6.0</td>\n",
       "      <td>10.0</td>\n",
       "    </tr>\n",
       "  </tbody>\n",
       "</table>\n",
       "</div>"
      ],
      "text/plain": [
       "                    calories  protein  calcium\n",
       "category                                      \n",
       "Beef & Pork            500.0     24.0     25.0\n",
       "Beverages              100.0      0.0      0.0\n",
       "Breakfast              470.0     19.0     15.0\n",
       "Chicken & Fish         480.0     27.0     15.0\n",
       "Coffee & Tea           270.0     10.0     30.0\n",
       "Desserts               250.0      2.0      4.0\n",
       "Salads                 255.0     24.0     15.0\n",
       "Smoothies & Shakes     540.0     12.0     40.0\n",
       "Snacks & Sides         260.0      6.0     10.0"
      ]
     },
     "execution_count": 8,
     "metadata": {},
     "output_type": "execute_result"
    }
   ],
   "source": [
    "data.groupby('category')[['calories', 'protein', 'calcium']].median()"
   ]
  },
  {
   "cell_type": "code",
   "execution_count": 17,
   "id": "526e3e00",
   "metadata": {},
   "outputs": [
    {
     "data": {
      "text/html": [
       "<div>\n",
       "<style scoped>\n",
       "    .dataframe tbody tr th:only-of-type {\n",
       "        vertical-align: middle;\n",
       "    }\n",
       "\n",
       "    .dataframe tbody tr th {\n",
       "        vertical-align: top;\n",
       "    }\n",
       "\n",
       "    .dataframe thead th {\n",
       "        text-align: right;\n",
       "    }\n",
       "</style>\n",
       "<table border=\"1\" class=\"dataframe\">\n",
       "  <thead>\n",
       "    <tr style=\"text-align: right;\">\n",
       "      <th></th>\n",
       "      <th>calories</th>\n",
       "      <th>protein</th>\n",
       "      <th>calcium</th>\n",
       "      <th>sum</th>\n",
       "    </tr>\n",
       "    <tr>\n",
       "      <th>category</th>\n",
       "      <th></th>\n",
       "      <th></th>\n",
       "      <th></th>\n",
       "      <th></th>\n",
       "    </tr>\n",
       "  </thead>\n",
       "  <tbody>\n",
       "    <tr>\n",
       "      <th>Beef &amp; Pork</th>\n",
       "      <td>500.0</td>\n",
       "      <td>24.0</td>\n",
       "      <td>25.0</td>\n",
       "      <td>524.0</td>\n",
       "    </tr>\n",
       "    <tr>\n",
       "      <th>Beverages</th>\n",
       "      <td>100.0</td>\n",
       "      <td>0.0</td>\n",
       "      <td>0.0</td>\n",
       "      <td>100.0</td>\n",
       "    </tr>\n",
       "    <tr>\n",
       "      <th>Breakfast</th>\n",
       "      <td>470.0</td>\n",
       "      <td>19.0</td>\n",
       "      <td>15.0</td>\n",
       "      <td>489.0</td>\n",
       "    </tr>\n",
       "    <tr>\n",
       "      <th>Chicken &amp; Fish</th>\n",
       "      <td>480.0</td>\n",
       "      <td>27.0</td>\n",
       "      <td>15.0</td>\n",
       "      <td>507.0</td>\n",
       "    </tr>\n",
       "    <tr>\n",
       "      <th>Coffee &amp; Tea</th>\n",
       "      <td>270.0</td>\n",
       "      <td>10.0</td>\n",
       "      <td>30.0</td>\n",
       "      <td>280.0</td>\n",
       "    </tr>\n",
       "    <tr>\n",
       "      <th>Desserts</th>\n",
       "      <td>250.0</td>\n",
       "      <td>2.0</td>\n",
       "      <td>4.0</td>\n",
       "      <td>252.0</td>\n",
       "    </tr>\n",
       "    <tr>\n",
       "      <th>Salads</th>\n",
       "      <td>255.0</td>\n",
       "      <td>24.0</td>\n",
       "      <td>15.0</td>\n",
       "      <td>279.0</td>\n",
       "    </tr>\n",
       "    <tr>\n",
       "      <th>Smoothies &amp; Shakes</th>\n",
       "      <td>540.0</td>\n",
       "      <td>12.0</td>\n",
       "      <td>40.0</td>\n",
       "      <td>552.0</td>\n",
       "    </tr>\n",
       "    <tr>\n",
       "      <th>Snacks &amp; Sides</th>\n",
       "      <td>260.0</td>\n",
       "      <td>6.0</td>\n",
       "      <td>10.0</td>\n",
       "      <td>266.0</td>\n",
       "    </tr>\n",
       "  </tbody>\n",
       "</table>\n",
       "</div>"
      ],
      "text/plain": [
       "                    calories  protein  calcium    sum\n",
       "category                                             \n",
       "Beef & Pork            500.0     24.0     25.0  524.0\n",
       "Beverages              100.0      0.0      0.0  100.0\n",
       "Breakfast              470.0     19.0     15.0  489.0\n",
       "Chicken & Fish         480.0     27.0     15.0  507.0\n",
       "Coffee & Tea           270.0     10.0     30.0  280.0\n",
       "Desserts               250.0      2.0      4.0  252.0\n",
       "Salads                 255.0     24.0     15.0  279.0\n",
       "Smoothies & Shakes     540.0     12.0     40.0  552.0\n",
       "Snacks & Sides         260.0      6.0     10.0  266.0"
      ]
     },
     "execution_count": 17,
     "metadata": {},
     "output_type": "execute_result"
    }
   ],
   "source": [
    "df=data.groupby('category')[['calories', 'protein', 'calcium']].median()\n",
    "df['sum']=df['calories']+df['protein']\n",
    "df"
   ]
  },
  {
   "cell_type": "code",
   "execution_count": 19,
   "id": "354a1184",
   "metadata": {},
   "outputs": [
    {
     "data": {
      "text/plain": [
       "category\n",
       "Beef & Pork            510\n",
       "Beverages              280\n",
       "Breakfast             1000\n",
       "Chicken & Fish        1690\n",
       "Coffee & Tea           760\n",
       "Desserts               295\n",
       "Salads                 310\n",
       "Smoothies & Shakes     720\n",
       "Snacks & Sides         495\n",
       "Name: calories, dtype: int64"
      ]
     },
     "execution_count": 19,
     "metadata": {},
     "output_type": "execute_result"
    }
   ],
   "source": [
    "x=data.groupby('category')['calories'].max()\n",
    "y=data.groupby('category')['calories'].min()\n",
    "x-y"
   ]
  },
  {
   "cell_type": "code",
   "execution_count": 13,
   "id": "26ff2c30",
   "metadata": {},
   "outputs": [
    {
     "data": {
      "text/plain": [
       "category\n",
       "Beef & Pork            750\n",
       "Beverages              280\n",
       "Breakfast             1150\n",
       "Chicken & Fish        1880\n",
       "Coffee & Tea           760\n",
       "Desserts               340\n",
       "Salads                 450\n",
       "Smoothies & Shakes     930\n",
       "Snacks & Sides         510\n",
       "Name: calories, dtype: int64"
      ]
     },
     "execution_count": 13,
     "metadata": {},
     "output_type": "execute_result"
    }
   ],
   "source": [
    "data.groupby('category')['calories'].max()"
   ]
  },
  {
   "cell_type": "code",
   "execution_count": 6,
   "id": "3f546b94",
   "metadata": {},
   "outputs": [
    {
     "data": {
      "text/plain": [
       "category\n",
       "Beef & Pork           240\n",
       "Beverages               0\n",
       "Breakfast             150\n",
       "Chicken & Fish        190\n",
       "Coffee & Tea            0\n",
       "Desserts               45\n",
       "Salads                140\n",
       "Smoothies & Shakes    210\n",
       "Snacks & Sides         15\n",
       "Name: calories, dtype: int64"
      ]
     },
     "execution_count": 6,
     "metadata": {},
     "output_type": "execute_result"
    }
   ],
   "source": [
    "data.groupby('category')['calories'].min()"
   ]
  },
  {
   "cell_type": "code",
   "execution_count": 17,
   "id": "57c22da9",
   "metadata": {},
   "outputs": [
    {
     "data": {
      "text/plain": [
       "category\n",
       "Beef & Pork            3.125000\n",
       "Beverages                   inf\n",
       "Breakfast              7.666667\n",
       "Chicken & Fish         9.894737\n",
       "Coffee & Tea                inf\n",
       "Desserts               7.555556\n",
       "Salads                 3.214286\n",
       "Smoothies & Shakes     4.428571\n",
       "Snacks & Sides        34.000000\n",
       "Name: calories, dtype: float64"
      ]
     },
     "execution_count": 17,
     "metadata": {},
     "output_type": "execute_result"
    }
   ],
   "source": [
    "data.groupby('category')['calories'].max() / data.groupby('category')['calories'].min()"
   ]
  },
  {
   "cell_type": "code",
   "execution_count": 18,
   "id": "53f4b976",
   "metadata": {},
   "outputs": [
    {
     "data": {
      "text/plain": [
       "<AxesSubplot:xlabel='category'>"
      ]
     },
     "execution_count": 18,
     "metadata": {},
     "output_type": "execute_result"
    },
    {
     "data": {
      "image/png": "[encoded data removed]",
      "text/plain": [
       "<Figure size 432x288 with 1 Axes>"
      ]
     },
     "metadata": {
      "needs_background": "light"
     },
     "output_type": "display_data"
    }
   ],
   "source": [
    "data.groupby('category')['protein'].mean().plot(kind='bar')"
   ]
  },
  {
   "cell_type": "markdown",
   "id": "cd9abeda",
   "metadata": {},
   "source": [
    "# Потренируемся"
   ]
  },
  {
   "cell_type": "code",
   "execution_count": null,
   "id": "d19fe0d1",
   "metadata": {},
   "outputs": [],
   "source": [
    "#Задание 20 (тр.вариант 1)"
   ]
  },
  {
   "cell_type": "code",
   "execution_count": 20,
   "id": "a5d7bff2",
   "metadata": {},
   "outputs": [],
   "source": [
    "import pandas as pd\n",
    "df = pd.read_csv('c-4 (1).csv')"
   ]
  },
  {
   "cell_type": "code",
   "execution_count": 23,
   "id": "7f23ea6b",
   "metadata": {},
   "outputs": [
    {
     "data": {
      "text/plain": [
       "383.09"
      ]
     },
     "execution_count": 23,
     "metadata": {},
     "output_type": "execute_result"
    }
   ],
   "source": [
    "round(df['M1'].median()*df['M2'].max(),2)"
   ]
  },
  {
   "cell_type": "code",
   "execution_count": null,
   "id": "159e926c",
   "metadata": {},
   "outputs": [],
   "source": [
    "#Задание 21 (тр.вариант 1)"
   ]
  },
  {
   "cell_type": "code",
   "execution_count": 24,
   "id": "ad8680d7",
   "metadata": {},
   "outputs": [
    {
     "data": {
      "text/plain": [
       "0    10:05 PM\n",
       "dtype: object"
      ]
     },
     "execution_count": 24,
     "metadata": {},
     "output_type": "execute_result"
    }
   ],
   "source": [
    "df['time'].mode()"
   ]
  },
  {
   "cell_type": "code",
   "execution_count": 25,
   "id": "610b09c6",
   "metadata": {},
   "outputs": [
    {
     "data": {
      "text/plain": [
       "10:05 PM    5\n",
       "12:33 AM    4\n",
       "4:08 AM     4\n",
       "2:05 PM     4\n",
       "1:20 AM     4\n",
       "           ..\n",
       "10:04 AM    1\n",
       "9:32 AM     1\n",
       "8:57 AM     1\n",
       "2:07 AM     1\n",
       "10:08 PM    1\n",
       "Name: time, Length: 709, dtype: int64"
      ]
     },
     "execution_count": 25,
     "metadata": {},
     "output_type": "execute_result"
    }
   ],
   "source": [
    "df['time'].value_counts()"
   ]
  }
 ],
 "metadata": {
  "kernelspec": {
   "display_name": "Python 3 (ipykernel)",
   "language": "python",
   "name": "python3"
  },
  "language_info": {
   "codemirror_mode": {
    "name": "ipython",
    "version": 3
   },
   "file_extension": ".py",
   "mimetype": "text/x-python",
   "name": "python",
   "nbconvert_exporter": "python",
   "pygments_lexer": "ipython3",
   "version": "3.9.7"
  }
 },
 "nbformat": 4,
 "nbformat_minor": 5
}
