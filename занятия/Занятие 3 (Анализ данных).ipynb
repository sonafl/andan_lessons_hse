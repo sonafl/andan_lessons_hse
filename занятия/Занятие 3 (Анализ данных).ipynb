{
 "cells": [
  {
   "cell_type": "code",
   "execution_count": 1,
   "id": "567b680d",
   "metadata": {},
   "outputs": [],
   "source": [
    "import pandas as pd\n",
    "data = pd.read_csv('mcdonalds.csv')"
   ]
  },
  {
   "cell_type": "code",
   "execution_count": 2,
   "id": "0836b2fe",
   "metadata": {},
   "outputs": [
    {
     "data": {
      "text/html": [
       "<div>\n",
       "<style scoped>\n",
       "    .dataframe tbody tr th:only-of-type {\n",
       "        vertical-align: middle;\n",
       "    }\n",
       "\n",
       "    .dataframe tbody tr th {\n",
       "        vertical-align: top;\n",
       "    }\n",
       "\n",
       "    .dataframe thead th {\n",
       "        text-align: right;\n",
       "    }\n",
       "</style>\n",
       "<table border=\"1\" class=\"dataframe\">\n",
       "  <thead>\n",
       "    <tr style=\"text-align: right;\">\n",
       "      <th></th>\n",
       "      <th>category</th>\n",
       "      <th>item</th>\n",
       "      <th>calories</th>\n",
       "      <th>total_fat</th>\n",
       "      <th>calcium</th>\n",
       "      <th>sugars</th>\n",
       "      <th>protein</th>\n",
       "    </tr>\n",
       "  </thead>\n",
       "  <tbody>\n",
       "    <tr>\n",
       "      <th>0</th>\n",
       "      <td>Breakfast</td>\n",
       "      <td>Egg McMuffin</td>\n",
       "      <td>300</td>\n",
       "      <td>20</td>\n",
       "      <td>25</td>\n",
       "      <td>3</td>\n",
       "      <td>17</td>\n",
       "    </tr>\n",
       "    <tr>\n",
       "      <th>1</th>\n",
       "      <td>Breakfast</td>\n",
       "      <td>Egg White Delight</td>\n",
       "      <td>250</td>\n",
       "      <td>12</td>\n",
       "      <td>25</td>\n",
       "      <td>3</td>\n",
       "      <td>18</td>\n",
       "    </tr>\n",
       "    <tr>\n",
       "      <th>2</th>\n",
       "      <td>Breakfast</td>\n",
       "      <td>Sausage McMuffin</td>\n",
       "      <td>370</td>\n",
       "      <td>35</td>\n",
       "      <td>25</td>\n",
       "      <td>2</td>\n",
       "      <td>14</td>\n",
       "    </tr>\n",
       "    <tr>\n",
       "      <th>3</th>\n",
       "      <td>Breakfast</td>\n",
       "      <td>Sausage McMuffin with Egg</td>\n",
       "      <td>450</td>\n",
       "      <td>43</td>\n",
       "      <td>30</td>\n",
       "      <td>2</td>\n",
       "      <td>21</td>\n",
       "    </tr>\n",
       "    <tr>\n",
       "      <th>4</th>\n",
       "      <td>Breakfast</td>\n",
       "      <td>Sausage McMuffin with Egg Whites</td>\n",
       "      <td>400</td>\n",
       "      <td>35</td>\n",
       "      <td>25</td>\n",
       "      <td>2</td>\n",
       "      <td>21</td>\n",
       "    </tr>\n",
       "    <tr>\n",
       "      <th>...</th>\n",
       "      <td>...</td>\n",
       "      <td>...</td>\n",
       "      <td>...</td>\n",
       "      <td>...</td>\n",
       "      <td>...</td>\n",
       "      <td>...</td>\n",
       "      <td>...</td>\n",
       "    </tr>\n",
       "    <tr>\n",
       "      <th>255</th>\n",
       "      <td>Smoothies &amp; Shakes</td>\n",
       "      <td>McFlurry with Oreo Cookies (Small)</td>\n",
       "      <td>510</td>\n",
       "      <td>26</td>\n",
       "      <td>40</td>\n",
       "      <td>64</td>\n",
       "      <td>12</td>\n",
       "    </tr>\n",
       "    <tr>\n",
       "      <th>256</th>\n",
       "      <td>Smoothies &amp; Shakes</td>\n",
       "      <td>McFlurry with Oreo Cookies (Medium)</td>\n",
       "      <td>690</td>\n",
       "      <td>35</td>\n",
       "      <td>50</td>\n",
       "      <td>85</td>\n",
       "      <td>15</td>\n",
       "    </tr>\n",
       "    <tr>\n",
       "      <th>257</th>\n",
       "      <td>Smoothies &amp; Shakes</td>\n",
       "      <td>McFlurry with Oreo Cookies (Snack)</td>\n",
       "      <td>340</td>\n",
       "      <td>17</td>\n",
       "      <td>25</td>\n",
       "      <td>43</td>\n",
       "      <td>8</td>\n",
       "    </tr>\n",
       "    <tr>\n",
       "      <th>258</th>\n",
       "      <td>Smoothies &amp; Shakes</td>\n",
       "      <td>McFlurry with Reese's Peanut Butter Cups (Medium)</td>\n",
       "      <td>810</td>\n",
       "      <td>50</td>\n",
       "      <td>60</td>\n",
       "      <td>103</td>\n",
       "      <td>21</td>\n",
       "    </tr>\n",
       "    <tr>\n",
       "      <th>259</th>\n",
       "      <td>Smoothies &amp; Shakes</td>\n",
       "      <td>McFlurry with Reese's Peanut Butter Cups (Snack)</td>\n",
       "      <td>410</td>\n",
       "      <td>25</td>\n",
       "      <td>30</td>\n",
       "      <td>51</td>\n",
       "      <td>10</td>\n",
       "    </tr>\n",
       "  </tbody>\n",
       "</table>\n",
       "<p>260 rows × 7 columns</p>\n",
       "</div>"
      ],
      "text/plain": [
       "               category                                               item  \\\n",
       "0             Breakfast                                       Egg McMuffin   \n",
       "1             Breakfast                                  Egg White Delight   \n",
       "2             Breakfast                                   Sausage McMuffin   \n",
       "3             Breakfast                          Sausage McMuffin with Egg   \n",
       "4             Breakfast                   Sausage McMuffin with Egg Whites   \n",
       "..                  ...                                                ...   \n",
       "255  Smoothies & Shakes                 McFlurry with Oreo Cookies (Small)   \n",
       "256  Smoothies & Shakes                McFlurry with Oreo Cookies (Medium)   \n",
       "257  Smoothies & Shakes                 McFlurry with Oreo Cookies (Snack)   \n",
       "258  Smoothies & Shakes  McFlurry with Reese's Peanut Butter Cups (Medium)   \n",
       "259  Smoothies & Shakes   McFlurry with Reese's Peanut Butter Cups (Snack)   \n",
       "\n",
       "     calories  total_fat  calcium  sugars  protein  \n",
       "0         300         20       25       3       17  \n",
       "1         250         12       25       3       18  \n",
       "2         370         35       25       2       14  \n",
       "3         450         43       30       2       21  \n",
       "4         400         35       25       2       21  \n",
       "..        ...        ...      ...     ...      ...  \n",
       "255       510         26       40      64       12  \n",
       "256       690         35       50      85       15  \n",
       "257       340         17       25      43        8  \n",
       "258       810         50       60     103       21  \n",
       "259       410         25       30      51       10  \n",
       "\n",
       "[260 rows x 7 columns]"
      ]
     },
     "execution_count": 2,
     "metadata": {},
     "output_type": "execute_result"
    }
   ],
   "source": [
    "data"
   ]
  },
  {
   "cell_type": "markdown",
   "id": "c8988926",
   "metadata": {},
   "source": [
    "1. gender: пол пациента (\"Male\", \"Female\" or \"Other\"): номинальное \n",
    "2. hypertension: есть ли у пациента гипертония (0, если нет, 1, если есть) - бинарное \n",
    "3. heart_disease: болезни сердца (0, если нет, 1 если есть) бинарное \n",
    "4. ever_married: женат/замужем ли пациент (\"No\" or \"Yes\") бинарное \n",
    "5. work_type: трудоустройство(\"children\", \"Govt_jov\" (государственная работа), \"Never_worked\", \"Private\" or \"Self-employed\"(частный предприниматель)) - номинальное \n",
    "6. Residence_type: место жительства (\"Rural\" - в деревне or \"Urban\" - в городе) - номинальное (бинарное)\n",
    "8. avg_glucose_level: средний уровень глюкозы в крови - непрерывное \n",
    "9. bmi: индекс массы тела - непрерывное \n",
    "10. smoking_status: статус курения (\"formerly smoked\" - курил в прошлом, \"never smoked\", \"smokes\" or \"Unknown\" - нет информации) - номинальное \n",
    "11. stroke: был инсульт или нет(1, если да, 0, если нет) - бинарное "
   ]
  },
  {
   "cell_type": "markdown",
   "id": "da2e7666",
   "metadata": {},
   "source": [
    "## Выбросы"
   ]
  },
  {
   "cell_type": "markdown",
   "id": "2f5ba6f6",
   "metadata": {},
   "source": [
    "**Выбросы** - аномальные значения, которые отличаются от МЦТ. Их можно заменить, если их мало, и удалить, если много. Есть два способа их нахождения. "
   ]
  },
  {
   "cell_type": "code",
   "execution_count": 8,
   "id": "edc4643d",
   "metadata": {},
   "outputs": [
    {
     "data": {
      "text/plain": [
       "<AxesSubplot:xlabel='avg_glucose_level'>"
      ]
     },
     "execution_count": 8,
     "metadata": {},
     "output_type": "execute_result"
    },
    {
     "data": {
      "image/png": "[encoded data removed]",
      "text/plain": [
       "<Figure size 432x288 with 1 Axes>"
      ]
     },
     "metadata": {
      "needs_background": "light"
     },
     "output_type": "display_data"
    }
   ],
   "source": [
    "# визуализация выбросов\n",
    "import seaborn as sns\n",
    "sns.boxplot(x = data['avg_glucose_level'])"
   ]
  },
  {
   "cell_type": "code",
   "execution_count": 3,
   "id": "e3ff11e1",
   "metadata": {},
   "outputs": [
    {
     "data": {
      "text/plain": [
       "(21.977500000000006, 169.35750000000002)"
      ]
     },
     "execution_count": 3,
     "metadata": {},
     "output_type": "execute_result"
    }
   ],
   "source": [
    "# 1 способ: интерквартильный размах\n",
    "q1 = data['avg_glucose_level'].quantile(.25)\n",
    "q3 = data['avg_glucose_level'].quantile(.75)\n",
    "iqr=q3-q1\n",
    "# Нижняя граница\n",
    "line1 = q1 - 1.5*iqr\n",
    "# Верхняя границы\n",
    "line2 = q3 + 1.5*iqr\n",
    "line1, line2"
   ]
  },
  {
   "cell_type": "code",
   "execution_count": 4,
   "id": "c10ac408",
   "metadata": {},
   "outputs": [
    {
     "data": {
      "text/html": [
       "<div>\n",
       "<style scoped>\n",
       "    .dataframe tbody tr th:only-of-type {\n",
       "        vertical-align: middle;\n",
       "    }\n",
       "\n",
       "    .dataframe tbody tr th {\n",
       "        vertical-align: top;\n",
       "    }\n",
       "\n",
       "    .dataframe thead th {\n",
       "        text-align: right;\n",
       "    }\n",
       "</style>\n",
       "<table border=\"1\" class=\"dataframe\">\n",
       "  <thead>\n",
       "    <tr style=\"text-align: right;\">\n",
       "      <th></th>\n",
       "      <th>id</th>\n",
       "      <th>gender</th>\n",
       "      <th>age</th>\n",
       "      <th>hypertension</th>\n",
       "      <th>heart_disease</th>\n",
       "      <th>ever_married</th>\n",
       "      <th>work_type</th>\n",
       "      <th>Residence_type</th>\n",
       "      <th>avg_glucose_level</th>\n",
       "      <th>bmi</th>\n",
       "      <th>smoking_status</th>\n",
       "      <th>stroke</th>\n",
       "    </tr>\n",
       "  </thead>\n",
       "  <tbody>\n",
       "    <tr>\n",
       "      <th>0</th>\n",
       "      <td>9046</td>\n",
       "      <td>Male</td>\n",
       "      <td>67.0</td>\n",
       "      <td>0</td>\n",
       "      <td>1</td>\n",
       "      <td>Yes</td>\n",
       "      <td>Private</td>\n",
       "      <td>Urban</td>\n",
       "      <td>228.69</td>\n",
       "      <td>36.6</td>\n",
       "      <td>formerly smoked</td>\n",
       "      <td>1</td>\n",
       "    </tr>\n",
       "    <tr>\n",
       "      <th>1</th>\n",
       "      <td>51676</td>\n",
       "      <td>Female</td>\n",
       "      <td>61.0</td>\n",
       "      <td>0</td>\n",
       "      <td>0</td>\n",
       "      <td>Yes</td>\n",
       "      <td>Self-employed</td>\n",
       "      <td>Rural</td>\n",
       "      <td>202.21</td>\n",
       "      <td>NaN</td>\n",
       "      <td>never smoked</td>\n",
       "      <td>1</td>\n",
       "    </tr>\n",
       "    <tr>\n",
       "      <th>3</th>\n",
       "      <td>60182</td>\n",
       "      <td>Female</td>\n",
       "      <td>49.0</td>\n",
       "      <td>0</td>\n",
       "      <td>0</td>\n",
       "      <td>Yes</td>\n",
       "      <td>Private</td>\n",
       "      <td>Urban</td>\n",
       "      <td>171.23</td>\n",
       "      <td>34.4</td>\n",
       "      <td>smokes</td>\n",
       "      <td>1</td>\n",
       "    </tr>\n",
       "    <tr>\n",
       "      <th>4</th>\n",
       "      <td>1665</td>\n",
       "      <td>Female</td>\n",
       "      <td>79.0</td>\n",
       "      <td>1</td>\n",
       "      <td>0</td>\n",
       "      <td>Yes</td>\n",
       "      <td>Self-employed</td>\n",
       "      <td>Rural</td>\n",
       "      <td>174.12</td>\n",
       "      <td>24.0</td>\n",
       "      <td>never smoked</td>\n",
       "      <td>1</td>\n",
       "    </tr>\n",
       "    <tr>\n",
       "      <th>5</th>\n",
       "      <td>56669</td>\n",
       "      <td>Male</td>\n",
       "      <td>81.0</td>\n",
       "      <td>0</td>\n",
       "      <td>0</td>\n",
       "      <td>Yes</td>\n",
       "      <td>Private</td>\n",
       "      <td>Urban</td>\n",
       "      <td>186.21</td>\n",
       "      <td>29.0</td>\n",
       "      <td>formerly smoked</td>\n",
       "      <td>1</td>\n",
       "    </tr>\n",
       "    <tr>\n",
       "      <th>...</th>\n",
       "      <td>...</td>\n",
       "      <td>...</td>\n",
       "      <td>...</td>\n",
       "      <td>...</td>\n",
       "      <td>...</td>\n",
       "      <td>...</td>\n",
       "      <td>...</td>\n",
       "      <td>...</td>\n",
       "      <td>...</td>\n",
       "      <td>...</td>\n",
       "      <td>...</td>\n",
       "      <td>...</td>\n",
       "    </tr>\n",
       "    <tr>\n",
       "      <th>5061</th>\n",
       "      <td>38009</td>\n",
       "      <td>Male</td>\n",
       "      <td>41.0</td>\n",
       "      <td>0</td>\n",
       "      <td>0</td>\n",
       "      <td>Yes</td>\n",
       "      <td>Private</td>\n",
       "      <td>Urban</td>\n",
       "      <td>223.78</td>\n",
       "      <td>32.3</td>\n",
       "      <td>never smoked</td>\n",
       "      <td>0</td>\n",
       "    </tr>\n",
       "    <tr>\n",
       "      <th>5062</th>\n",
       "      <td>11184</td>\n",
       "      <td>Female</td>\n",
       "      <td>82.0</td>\n",
       "      <td>0</td>\n",
       "      <td>0</td>\n",
       "      <td>Yes</td>\n",
       "      <td>Self-employed</td>\n",
       "      <td>Rural</td>\n",
       "      <td>211.58</td>\n",
       "      <td>36.9</td>\n",
       "      <td>never smoked</td>\n",
       "      <td>0</td>\n",
       "    </tr>\n",
       "    <tr>\n",
       "      <th>5063</th>\n",
       "      <td>68967</td>\n",
       "      <td>Male</td>\n",
       "      <td>39.0</td>\n",
       "      <td>0</td>\n",
       "      <td>0</td>\n",
       "      <td>Yes</td>\n",
       "      <td>Private</td>\n",
       "      <td>Urban</td>\n",
       "      <td>179.38</td>\n",
       "      <td>27.7</td>\n",
       "      <td>Unknown</td>\n",
       "      <td>0</td>\n",
       "    </tr>\n",
       "    <tr>\n",
       "      <th>5064</th>\n",
       "      <td>66684</td>\n",
       "      <td>Male</td>\n",
       "      <td>70.0</td>\n",
       "      <td>0</td>\n",
       "      <td>0</td>\n",
       "      <td>Yes</td>\n",
       "      <td>Self-employed</td>\n",
       "      <td>Rural</td>\n",
       "      <td>193.88</td>\n",
       "      <td>24.3</td>\n",
       "      <td>Unknown</td>\n",
       "      <td>0</td>\n",
       "    </tr>\n",
       "    <tr>\n",
       "      <th>5076</th>\n",
       "      <td>39935</td>\n",
       "      <td>Female</td>\n",
       "      <td>34.0</td>\n",
       "      <td>0</td>\n",
       "      <td>0</td>\n",
       "      <td>Yes</td>\n",
       "      <td>Private</td>\n",
       "      <td>Rural</td>\n",
       "      <td>174.37</td>\n",
       "      <td>23.0</td>\n",
       "      <td>never smoked</td>\n",
       "      <td>0</td>\n",
       "    </tr>\n",
       "  </tbody>\n",
       "</table>\n",
       "<p>627 rows × 12 columns</p>\n",
       "</div>"
      ],
      "text/plain": [
       "         id  gender   age  hypertension  heart_disease ever_married  \\\n",
       "0      9046    Male  67.0             0              1          Yes   \n",
       "1     51676  Female  61.0             0              0          Yes   \n",
       "3     60182  Female  49.0             0              0          Yes   \n",
       "4      1665  Female  79.0             1              0          Yes   \n",
       "5     56669    Male  81.0             0              0          Yes   \n",
       "...     ...     ...   ...           ...            ...          ...   \n",
       "5061  38009    Male  41.0             0              0          Yes   \n",
       "5062  11184  Female  82.0             0              0          Yes   \n",
       "5063  68967    Male  39.0             0              0          Yes   \n",
       "5064  66684    Male  70.0             0              0          Yes   \n",
       "5076  39935  Female  34.0             0              0          Yes   \n",
       "\n",
       "          work_type Residence_type  avg_glucose_level   bmi   smoking_status  \\\n",
       "0           Private          Urban             228.69  36.6  formerly smoked   \n",
       "1     Self-employed          Rural             202.21   NaN     never smoked   \n",
       "3           Private          Urban             171.23  34.4           smokes   \n",
       "4     Self-employed          Rural             174.12  24.0     never smoked   \n",
       "5           Private          Urban             186.21  29.0  formerly smoked   \n",
       "...             ...            ...                ...   ...              ...   \n",
       "5061        Private          Urban             223.78  32.3     never smoked   \n",
       "5062  Self-employed          Rural             211.58  36.9     never smoked   \n",
       "5063        Private          Urban             179.38  27.7          Unknown   \n",
       "5064  Self-employed          Rural             193.88  24.3          Unknown   \n",
       "5076        Private          Rural             174.37  23.0     never smoked   \n",
       "\n",
       "      stroke  \n",
       "0          1  \n",
       "1          1  \n",
       "3          1  \n",
       "4          1  \n",
       "5          1  \n",
       "...      ...  \n",
       "5061       0  \n",
       "5062       0  \n",
       "5063       0  \n",
       "5064       0  \n",
       "5076       0  \n",
       "\n",
       "[627 rows x 12 columns]"
      ]
     },
     "execution_count": 4,
     "metadata": {},
     "output_type": "execute_result"
    }
   ],
   "source": [
    "data[(data['avg_glucose_level'] < line1)\n",
    "     |(data['avg_glucose_level'] > line2)]"
   ]
  },
  {
   "cell_type": "code",
   "execution_count": 2,
   "id": "a8a4a58a",
   "metadata": {},
   "outputs": [
    {
     "name": "stdout",
     "output_type": "stream",
     "text": [
      "-7.0612232727370525 219.35657748017314\n"
     ]
    }
   ],
   "source": [
    "# 2 способ: по среднеквадратичному отклонению\n",
    "mean = data['avg_glucose_level'].mean()\n",
    "std = data['avg_glucose_level'].std()\n",
    "# Нижняя граница\n",
    "b_line = mean - 2.5*std\n",
    "# Верхняя граница\n",
    "u_line = mean + 2.5*std\n",
    "print(b_line, u_line)"
   ]
  },
  {
   "cell_type": "code",
   "execution_count": 3,
   "id": "0b5c7b75",
   "metadata": {},
   "outputs": [
    {
     "data": {
      "text/plain": [
       "(221, 12)"
      ]
     },
     "execution_count": 3,
     "metadata": {},
     "output_type": "execute_result"
    }
   ],
   "source": [
    "data[(data['avg_glucose_level'] < b_line)\n",
    "     |(data['avg_glucose_level'] > u_line)].shape"
   ]
  },
  {
   "cell_type": "markdown",
   "id": "1fc75701",
   "metadata": {},
   "source": [
    "Если формулировка задания: \"На 2 отклонения и больше\", тогда в условие ставим \">=\", \"<=\""
   ]
  },
  {
   "cell_type": "markdown",
   "id": "8b586c73",
   "metadata": {},
   "source": [
    "## Корреляция "
   ]
  },
  {
   "cell_type": "markdown",
   "id": "76e3c335",
   "metadata": {},
   "source": [
    "**Корреляция** - показывает взаимосвязь между 2 НЕПРЕРЫВНЫМИ переменными"
   ]
  },
  {
   "cell_type": "markdown",
   "id": "1d0450ad",
   "metadata": {},
   "source": [
    "Есть отрицательная и положительная зависимости. Сила корреляции:\n",
    "\n",
    "0.1 - 0.3 - слабая связь\n",
    "\n",
    "0.3 - 0.5 - умеренная\n",
    "\n",
    "0.5 - 0.7 - заметная\n",
    "\n",
    "0.7 - 0.9 - высокая \n",
    "\n",
    "0.9 - 1.0 - сильная \n",
    "\n",
    "Коэффициент(выборочный коэффициент корреляции Пирсона) корреляции принимает значения в интервале от -1 до 1. "
   ]
  },
  {
   "attachments": {
    "corr1.png": {
     "image/png": "[encoded data removed]"
    }
   },
   "cell_type": "markdown",
   "id": "425864dc",
   "metadata": {},
   "source": [
    "![corr1.png](attachment:corr1.png)"
   ]
  },
  {
   "cell_type": "code",
   "execution_count": 6,
   "id": "72a24200",
   "metadata": {},
   "outputs": [
    {
     "data": {
      "text/html": [
       "<div>\n",
       "<style scoped>\n",
       "    .dataframe tbody tr th:only-of-type {\n",
       "        vertical-align: middle;\n",
       "    }\n",
       "\n",
       "    .dataframe tbody tr th {\n",
       "        vertical-align: top;\n",
       "    }\n",
       "\n",
       "    .dataframe thead th {\n",
       "        text-align: right;\n",
       "    }\n",
       "</style>\n",
       "<table border=\"1\" class=\"dataframe\">\n",
       "  <thead>\n",
       "    <tr style=\"text-align: right;\">\n",
       "      <th></th>\n",
       "      <th>id</th>\n",
       "      <th>age</th>\n",
       "      <th>hypertension</th>\n",
       "      <th>heart_disease</th>\n",
       "      <th>avg_glucose_level</th>\n",
       "      <th>bmi</th>\n",
       "      <th>stroke</th>\n",
       "    </tr>\n",
       "  </thead>\n",
       "  <tbody>\n",
       "    <tr>\n",
       "      <th>id</th>\n",
       "      <td>1.000000</td>\n",
       "      <td>0.003538</td>\n",
       "      <td>0.003550</td>\n",
       "      <td>-0.001296</td>\n",
       "      <td>0.001092</td>\n",
       "      <td>0.003084</td>\n",
       "      <td>0.006388</td>\n",
       "    </tr>\n",
       "    <tr>\n",
       "      <th>age</th>\n",
       "      <td>0.003538</td>\n",
       "      <td>1.000000</td>\n",
       "      <td>0.276398</td>\n",
       "      <td>0.263796</td>\n",
       "      <td>0.238171</td>\n",
       "      <td>0.333398</td>\n",
       "      <td>0.245257</td>\n",
       "    </tr>\n",
       "    <tr>\n",
       "      <th>hypertension</th>\n",
       "      <td>0.003550</td>\n",
       "      <td>0.276398</td>\n",
       "      <td>1.000000</td>\n",
       "      <td>0.108306</td>\n",
       "      <td>0.174474</td>\n",
       "      <td>0.167811</td>\n",
       "      <td>0.127904</td>\n",
       "    </tr>\n",
       "    <tr>\n",
       "      <th>heart_disease</th>\n",
       "      <td>-0.001296</td>\n",
       "      <td>0.263796</td>\n",
       "      <td>0.108306</td>\n",
       "      <td>1.000000</td>\n",
       "      <td>0.161857</td>\n",
       "      <td>0.041357</td>\n",
       "      <td>0.134914</td>\n",
       "    </tr>\n",
       "    <tr>\n",
       "      <th>avg_glucose_level</th>\n",
       "      <td>0.001092</td>\n",
       "      <td>0.238171</td>\n",
       "      <td>0.174474</td>\n",
       "      <td>0.161857</td>\n",
       "      <td>1.000000</td>\n",
       "      <td>0.175502</td>\n",
       "      <td>0.131945</td>\n",
       "    </tr>\n",
       "    <tr>\n",
       "      <th>bmi</th>\n",
       "      <td>0.003084</td>\n",
       "      <td>0.333398</td>\n",
       "      <td>0.167811</td>\n",
       "      <td>0.041357</td>\n",
       "      <td>0.175502</td>\n",
       "      <td>1.000000</td>\n",
       "      <td>0.042374</td>\n",
       "    </tr>\n",
       "    <tr>\n",
       "      <th>stroke</th>\n",
       "      <td>0.006388</td>\n",
       "      <td>0.245257</td>\n",
       "      <td>0.127904</td>\n",
       "      <td>0.134914</td>\n",
       "      <td>0.131945</td>\n",
       "      <td>0.042374</td>\n",
       "      <td>1.000000</td>\n",
       "    </tr>\n",
       "  </tbody>\n",
       "</table>\n",
       "</div>"
      ],
      "text/plain": [
       "                         id       age  hypertension  heart_disease  \\\n",
       "id                 1.000000  0.003538      0.003550      -0.001296   \n",
       "age                0.003538  1.000000      0.276398       0.263796   \n",
       "hypertension       0.003550  0.276398      1.000000       0.108306   \n",
       "heart_disease     -0.001296  0.263796      0.108306       1.000000   \n",
       "avg_glucose_level  0.001092  0.238171      0.174474       0.161857   \n",
       "bmi                0.003084  0.333398      0.167811       0.041357   \n",
       "stroke             0.006388  0.245257      0.127904       0.134914   \n",
       "\n",
       "                   avg_glucose_level       bmi    stroke  \n",
       "id                          0.001092  0.003084  0.006388  \n",
       "age                         0.238171  0.333398  0.245257  \n",
       "hypertension                0.174474  0.167811  0.127904  \n",
       "heart_disease               0.161857  0.041357  0.134914  \n",
       "avg_glucose_level           1.000000  0.175502  0.131945  \n",
       "bmi                         0.175502  1.000000  0.042374  \n",
       "stroke                      0.131945  0.042374  1.000000  "
      ]
     },
     "execution_count": 6,
     "metadata": {},
     "output_type": "execute_result"
    }
   ],
   "source": [
    "data.corr()"
   ]
  },
  {
   "cell_type": "code",
   "execution_count": 7,
   "id": "5da325b3",
   "metadata": {},
   "outputs": [
    {
     "data": {
      "text/plain": [
       "id                   0.001092\n",
       "stroke               0.131945\n",
       "heart_disease        0.161857\n",
       "hypertension         0.174474\n",
       "bmi                  0.175502\n",
       "age                  0.238171\n",
       "avg_glucose_level    1.000000\n",
       "Name: avg_glucose_level, dtype: float64"
      ]
     },
     "execution_count": 7,
     "metadata": {},
     "output_type": "execute_result"
    }
   ],
   "source": [
    "data.corr()['avg_glucose_level'].sort_values()"
   ]
  },
  {
   "cell_type": "code",
   "execution_count": 6,
   "id": "837b3738",
   "metadata": {},
   "outputs": [
    {
     "data": {
      "text/plain": [
       "avg_glucose_level    1.000000\n",
       "age                  0.238171\n",
       "bmi                  0.175502\n",
       "hypertension         0.174474\n",
       "heart_disease        0.161857\n",
       "stroke               0.131945\n",
       "id                   0.001092\n",
       "Name: avg_glucose_level, dtype: float64"
      ]
     },
     "execution_count": 6,
     "metadata": {},
     "output_type": "execute_result"
    }
   ],
   "source": [
    "data.corr()['avg_glucose_level'].sort_values(ascending = False)"
   ]
  },
  {
   "cell_type": "code",
   "execution_count": 16,
   "id": "4d03ff12",
   "metadata": {},
   "outputs": [
    {
     "data": {
      "text/html": [
       "<div>\n",
       "<style scoped>\n",
       "    .dataframe tbody tr th:only-of-type {\n",
       "        vertical-align: middle;\n",
       "    }\n",
       "\n",
       "    .dataframe tbody tr th {\n",
       "        vertical-align: top;\n",
       "    }\n",
       "\n",
       "    .dataframe thead th {\n",
       "        text-align: right;\n",
       "    }\n",
       "</style>\n",
       "<table border=\"1\" class=\"dataframe\">\n",
       "  <thead>\n",
       "    <tr style=\"text-align: right;\">\n",
       "      <th></th>\n",
       "      <th>age</th>\n",
       "      <th>avg_glucose_level</th>\n",
       "      <th>bmi</th>\n",
       "    </tr>\n",
       "  </thead>\n",
       "  <tbody>\n",
       "    <tr>\n",
       "      <th>age</th>\n",
       "      <td>1.000000</td>\n",
       "      <td>0.238171</td>\n",
       "      <td>0.333398</td>\n",
       "    </tr>\n",
       "    <tr>\n",
       "      <th>avg_glucose_level</th>\n",
       "      <td>0.238171</td>\n",
       "      <td>1.000000</td>\n",
       "      <td>0.175502</td>\n",
       "    </tr>\n",
       "    <tr>\n",
       "      <th>bmi</th>\n",
       "      <td>0.333398</td>\n",
       "      <td>0.175502</td>\n",
       "      <td>1.000000</td>\n",
       "    </tr>\n",
       "  </tbody>\n",
       "</table>\n",
       "</div>"
      ],
      "text/plain": [
       "                        age  avg_glucose_level       bmi\n",
       "age                1.000000           0.238171  0.333398\n",
       "avg_glucose_level  0.238171           1.000000  0.175502\n",
       "bmi                0.333398           0.175502  1.000000"
      ]
     },
     "execution_count": 16,
     "metadata": {},
     "output_type": "execute_result"
    }
   ],
   "source": [
    "data[['age', 'avg_glucose_level', 'bmi']].corr()"
   ]
  },
  {
   "cell_type": "code",
   "execution_count": 8,
   "id": "f2e3f18c",
   "metadata": {},
   "outputs": [
    {
     "data": {
      "text/plain": [
       "0.2381711141017434"
      ]
     },
     "execution_count": 8,
     "metadata": {},
     "output_type": "execute_result"
    }
   ],
   "source": [
    "data['age'].corr(data['avg_glucose_level'])"
   ]
  },
  {
   "cell_type": "code",
   "execution_count": 9,
   "id": "12bdb381",
   "metadata": {},
   "outputs": [
    {
     "data": {
      "text/plain": [
       "<AxesSubplot:xlabel='age', ylabel='avg_glucose_level'>"
      ]
     },
     "execution_count": 9,
     "metadata": {},
     "output_type": "execute_result"
    },
    {
     "data": {
      "image/png": "[encoded data removed]",
      "text/plain": [
       "<Figure size 432x288 with 1 Axes>"
      ]
     },
     "metadata": {
      "needs_background": "light"
     },
     "output_type": "display_data"
    }
   ],
   "source": [
    "# сначала пишем age - независимая переменная, глюкоза - зависимая\n",
    "data.plot('age','avg_glucose_level', kind = 'scatter')"
   ]
  },
  {
   "cell_type": "code",
   "execution_count": 15,
   "id": "ec4e2d74",
   "metadata": {},
   "outputs": [
    {
     "data": {
      "text/plain": [
       "array([[1.        , 0.88176646],\n",
       "       [0.88176646, 1.        ]])"
      ]
     },
     "execution_count": 15,
     "metadata": {},
     "output_type": "execute_result"
    }
   ],
   "source": [
    "import numpy as np \n",
    "X = np.array([14, 15, 50, 60])\n",
    "Y = np.array([2, 4, 5, 6])\n",
    "np.corrcoef(X,Y)"
   ]
  },
  {
   "cell_type": "markdown",
   "id": "efbc6be5",
   "metadata": {},
   "source": [
    "## Линейная регрессия "
   ]
  },
  {
   "cell_type": "markdown",
   "id": "4430250f",
   "metadata": {},
   "source": [
    "**Линейная регрессия** - это предсказание. Где есть предиктор(регрессор, независимая переменная, признак) - x, целевая переменная (зависимая переменная) - y, и предикт"
   ]
  },
  {
   "cell_type": "code",
   "execution_count": null,
   "id": "71a22db3",
   "metadata": {},
   "outputs": [],
   "source": [
    "y = kx+b"
   ]
  },
  {
   "cell_type": "code",
   "execution_count": null,
   "id": "b797d5da",
   "metadata": {},
   "outputs": [],
   "source": [
    "4  7ч  6\n",
    "5  8ч  5\n",
    "6  9ч  7"
   ]
  },
  {
   "cell_type": "markdown",
   "id": "9677a226",
   "metadata": {},
   "source": [
    "В корреляции мы также сталкиваемся с независимыми и целевыми переменными. Как y зависит от x?. По этой причине мы в КОРРЕЛЯЦИИ не говорим про ВЛИЯНИЕ, а только про ЗАВИСИМОСТЬ. И то, возможную."
   ]
  },
  {
   "cell_type": "markdown",
   "id": "fed7f243",
   "metadata": {},
   "source": [
    "Еще немного о терминах: каждая строка называется наблюдением/объект. Столбцы - переменные/признаком. "
   ]
  },
  {
   "cell_type": "markdown",
   "id": "8b6399e9",
   "metadata": {},
   "source": [
    "Среднеквадратичная ошибка имеет 2 особенности\n",
    "1. никогда не будет отриц числом \n",
    "2. очень редко бывает равна 0, (если парная регрессия равна 0)\n",
    "3. может быть любым полож числом"
   ]
  },
  {
   "cell_type": "code",
   "execution_count": 6,
   "id": "54cbec10",
   "metadata": {},
   "outputs": [
    {
     "data": {
      "text/plain": [
       "<AxesSubplot:xlabel='X', ylabel='Y'>"
      ]
     },
     "execution_count": 6,
     "metadata": {},
     "output_type": "execute_result"
    },
    {
     "data": {
      "image/png": "[encoded data removed]",
      "text/plain": [
       "<Figure size 432x288 with 1 Axes>"
      ]
     },
     "metadata": {
      "needs_background": "light"
     },
     "output_type": "display_data"
    }
   ],
   "source": [
    "# Задание 19\n",
    "import pandas as pd \n",
    "data = pd.read_csv('b4.csv')\n",
    "data.plot('X','Y', kind = 'scatter')"
   ]
  },
  {
   "cell_type": "code",
   "execution_count": null,
   "id": "f682b5eb",
   "metadata": {},
   "outputs": [],
   "source": [
    "Между переменными 𝑋\n",
    " и 𝑌\n",
    " существует отрицательная линейная взаимосвязь\n",
    "\n",
    "При прочих равных, при увеличении переменной 𝑋\n",
    " переменная 𝑌\n",
    " не изменится\n",
    "\n",
    "Между переменными 𝑋\n",
    " и 𝑌\n",
    " отсутствует линейная взаимосвязь\n",
    "\n",
    "Между переменными 𝑋\n",
    " и 𝑌\n",
    " существует положительная линейная взаимосвязь"
   ]
  },
  {
   "cell_type": "code",
   "execution_count": 15,
   "id": "7ebddaa1",
   "metadata": {},
   "outputs": [
    {
     "data": {
      "text/plain": [
       "<AxesSubplot:xlabel='X', ylabel='Y'>"
      ]
     },
     "execution_count": 15,
     "metadata": {},
     "output_type": "execute_result"
    },
    {
     "data": {
      "image/png": "[encoded data removed]",
      "text/plain": [
       "<Figure size 432x288 with 1 Axes>"
      ]
     },
     "metadata": {
      "needs_background": "light"
     },
     "output_type": "display_data"
    }
   ],
   "source": [
    "df = pd.read_csv('b4-5.csv')\n",
    "df.plot('X','Y', kind = 'scatter')"
   ]
  },
  {
   "cell_type": "code",
   "execution_count": null,
   "id": "a3e53b18",
   "metadata": {},
   "outputs": [],
   "source": [
    "Наибольшее значение \\(Y\\) составляет более 200\n",
    "\n",
    "\n",
    "Визуально в выборке есть хотя бы один выброс\n",
    "\n",
    "\n",
    "Переменные связаны положительной линейной взаимосвязью\n",
    "\n",
    "\n",
    "Наибольшее значение \\(X\\) составляет более 10"
   ]
  },
  {
   "cell_type": "markdown",
   "id": "09f5839d",
   "metadata": {},
   "source": [
    "## Потренируемся"
   ]
  },
  {
   "cell_type": "code",
   "execution_count": 24,
   "id": "8bae6845",
   "metadata": {},
   "outputs": [
    {
     "data": {
      "text/plain": [
       "129.89"
      ]
     },
     "execution_count": 24,
     "metadata": {},
     "output_type": "execute_result"
    }
   ],
   "source": [
    "x1 = data['M1'].mode()[0]\n",
    "x2 = data['M2'].min()\n",
    "# округление до сотых, как сказано на экзамене\n",
    "round(x1-x2, 2)"
   ]
  },
  {
   "cell_type": "code",
   "execution_count": 25,
   "id": "91647373",
   "metadata": {},
   "outputs": [
    {
     "data": {
      "text/plain": [
       "11:15 PM    4\n",
       "8:11 AM     4\n",
       "2:04 AM     3\n",
       "1:02 AM     3\n",
       "1:59 AM     3\n",
       "           ..\n",
       "4:18 AM     1\n",
       "7:41 PM     1\n",
       "6:45 PM     1\n",
       "3:34 PM     1\n",
       "7:22 AM     1\n",
       "Name: time, Length: 652, dtype: int64"
      ]
     },
     "execution_count": 25,
     "metadata": {},
     "output_type": "execute_result"
    }
   ],
   "source": [
    "data['time'].value_counts()"
   ]
  },
  {
   "cell_type": "code",
   "execution_count": 29,
   "id": "7e546806",
   "metadata": {},
   "outputs": [],
   "source": [
    "data['coded'] = data['M2'].apply(lambda x: 0 if x<data['M2'].mean() else 1)"
   ]
  },
  {
   "cell_type": "code",
   "execution_count": 34,
   "id": "987c412a",
   "metadata": {},
   "outputs": [
    {
     "data": {
      "text/plain": [
       "0.0"
      ]
     },
     "execution_count": 34,
     "metadata": {},
     "output_type": "execute_result"
    }
   ],
   "source": [
    "round(data['coded'].median(),2)"
   ]
  },
  {
   "cell_type": "code",
   "execution_count": null,
   "id": "b4feaeb9",
   "metadata": {},
   "outputs": [],
   "source": [
    "Маша: объяснить коды корреляции, 14,15,16,17,18,19 задания. "
   ]
  },
  {
   "cell_type": "code",
   "execution_count": null,
   "id": "8ddbec5d",
   "metadata": {},
   "outputs": [],
   "source": [
    "р  0 2 13 15\n",
    "п  0 5 10 15 \n",
    "\n",
    "р-п 0 -3 3 0  - отклонения\n",
    "\n",
    "(р-п)**2 = 0 9 9 0 \n",
    "\n",
    "18/4 = 4.5"
   ]
  }
 ],
 "metadata": {
  "kernelspec": {
   "display_name": "Python 3 (ipykernel)",
   "language": "python",
   "name": "python3"
  },
  "language_info": {
   "codemirror_mode": {
    "name": "ipython",
    "version": 3
   },
   "file_extension": ".py",
   "mimetype": "text/x-python",
   "name": "python",
   "nbconvert_exporter": "python",
   "pygments_lexer": "ipython3",
   "version": "3.9.7"
  }
 },
 "nbformat": 4,
 "nbformat_minor": 5
}
