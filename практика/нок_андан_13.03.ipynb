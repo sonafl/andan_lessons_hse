{
 "cells": [
  {
   "cell_type": "code",
   "execution_count": 27,
   "id": "f89fb81c",
   "metadata": {},
   "outputs": [],
   "source": [
    "import pandas as pd \n",
    "import numpy as np"
   ]
  },
  {
   "cell_type": "code",
   "execution_count": 2,
   "id": "904c7f7c",
   "metadata": {},
   "outputs": [
    {
     "data": {
      "text/plain": [
       "4.021749999999997"
      ]
     },
     "execution_count": 2,
     "metadata": {},
     "output_type": "execute_result"
    }
   ],
   "source": [
    "# 16\n",
    "𝑌=np.array([13.1,98.15,34.2,34.3,0.12,0.17,16.46,2.31])\n",
    "𝑍=np.array([14.28,100.12,32.0,30.30,0.3,0.18,17.87,4.32])\n",
    "((Y-Z)**2).sum()/8"
   ]
  },
  {
   "cell_type": "code",
   "execution_count": 3,
   "id": "d09fa262",
   "metadata": {},
   "outputs": [
    {
     "data": {
      "text/plain": [
       "4.02"
      ]
     },
     "execution_count": 3,
     "metadata": {},
     "output_type": "execute_result"
    }
   ],
   "source": [
    "round(4.021749999999997,2)"
   ]
  },
  {
   "cell_type": "code",
   "execution_count": 4,
   "id": "876a4f92",
   "metadata": {},
   "outputs": [
    {
     "data": {
      "text/plain": [
       "array([[1.        , 0.34341103],\n",
       "       [0.34341103, 1.        ]])"
      ]
     },
     "execution_count": 4,
     "metadata": {},
     "output_type": "execute_result"
    }
   ],
   "source": [
    "# 17\n",
    "𝑌=np.array([34.8, 30.2, 25.2, 14.9, 30.1])\n",
    "𝑍=np.array([100, 70, 89, 60, 43])\n",
    "np.corrcoef(Z,Y)"
   ]
  },
  {
   "cell_type": "code",
   "execution_count": 5,
   "id": "27369da4",
   "metadata": {},
   "outputs": [
    {
     "data": {
      "text/plain": [
       "0.34"
      ]
     },
     "execution_count": 5,
     "metadata": {},
     "output_type": "execute_result"
    }
   ],
   "source": [
    "round(0.34341103,2)"
   ]
  },
  {
   "cell_type": "code",
   "execution_count": 6,
   "id": "2185d819",
   "metadata": {},
   "outputs": [],
   "source": [
    "# 18\n",
    "y = np.array([256,1068,58,467])\n",
    "x = np.array([0.15,0.43,0.11,0.27])\n",
    "ssx = ((x-x.mean())**2).sum()\n",
    "ssp = ((x-x.mean())*(y-y.mean())).sum()\n",
    "w1 = ssp/ssx\n",
    "w0 = y.mean() - w1*x.mean()"
   ]
  },
  {
   "cell_type": "code",
   "execution_count": 7,
   "id": "46ff7d29",
   "metadata": {},
   "outputs": [
    {
     "data": {
      "text/plain": [
       "-16.06"
      ]
     },
     "execution_count": 7,
     "metadata": {},
     "output_type": "execute_result"
    }
   ],
   "source": [
    "round(w0*ssx,2)"
   ]
  },
  {
   "cell_type": "code",
   "execution_count": 4,
   "id": "4fd4ea4e",
   "metadata": {},
   "outputs": [
    {
     "data": {
      "text/plain": [
       "<AxesSubplot:xlabel='X', ylabel='Y'>"
      ]
     },
     "execution_count": 4,
     "metadata": {},
     "output_type": "execute_result"
    },
    {
     "data": {
      "image/png": "[encoded data removed]",
      "text/plain": [
       "<Figure size 432x288 with 1 Axes>"
      ]
     },
     "metadata": {
      "needs_background": "light"
     },
     "output_type": "display_data"
    }
   ],
   "source": [
    "# 19\n",
    "data = pd.read_csv('b.csv')\n",
    "data.plot('X','Y',kind='scatter')"
   ]
  },
  {
   "cell_type": "code",
   "execution_count": 24,
   "id": "76372afb",
   "metadata": {},
   "outputs": [],
   "source": [
    "data = pd.read_csv('c.csv')"
   ]
  },
  {
   "cell_type": "code",
   "execution_count": 26,
   "id": "7216bb45",
   "metadata": {},
   "outputs": [
    {
     "ename": "SyntaxError",
     "evalue": "invalid syntax (3661179682.py, line 1)",
     "output_type": "error",
     "traceback": [
      "\u001b[0;36m  File \u001b[0;32m\"/var/folders/sk/h3hrbwnj61j1z0q7y67jzd5w0000gn/T/ipykernel_7270/3661179682.py\"\u001b[0;36m, line \u001b[0;32m1\u001b[0m\n\u001b[0;31m    data['Bedrooms_Binned'] = data['bedrooms'].apply(lambda x: 1 if x<3 elif (x>=3)and(x<6) x=6 elif x>=6 x=3)\u001b[0m\n\u001b[0m                                                                        ^\u001b[0m\n\u001b[0;31mSyntaxError\u001b[0m\u001b[0;31m:\u001b[0m invalid syntax\n"
     ]
    }
   ],
   "source": [
    "data['Bedrooms_Binned'] = data['bedrooms'].apply(lambda x: 1 if x<3 elif (x>=3)and(x<6) x=6 elif x>=6 x=3)"
   ]
  },
  {
   "cell_type": "code",
   "execution_count": 58,
   "id": "1edecce0",
   "metadata": {},
   "outputs": [
    {
     "data": {
      "text/plain": [
       "907206.84"
      ]
     },
     "execution_count": 58,
     "metadata": {},
     "output_type": "execute_result"
    }
   ],
   "source": [
    "# 20\n",
    "round(data['price'].mean() + data['price'].std(ddof=0),2)"
   ]
  },
  {
   "cell_type": "code",
   "execution_count": 14,
   "id": "4ee4bb76",
   "metadata": {},
   "outputs": [
    {
     "data": {
      "text/plain": [
       "0    2014\n",
       "dtype: int64"
      ]
     },
     "execution_count": 14,
     "metadata": {},
     "output_type": "execute_result"
    }
   ],
   "source": [
    "#21\n",
    "data['yr_built'].mode()"
   ]
  },
  {
   "cell_type": "code",
   "execution_count": 19,
   "id": "3f19f2a8",
   "metadata": {},
   "outputs": [
    {
     "data": {
      "text/plain": [
       "2014    559\n",
       "2006    454\n",
       "2005    450\n",
       "2004    433\n",
       "2003    422\n",
       "       ... \n",
       "1933     30\n",
       "1901     29\n",
       "1902     27\n",
       "1935     24\n",
       "1934     21\n",
       "Name: yr_built, Length: 116, dtype: int64"
      ]
     },
     "execution_count": 19,
     "metadata": {},
     "output_type": "execute_result"
    }
   ],
   "source": [
    "data['yr_built'].value_counts()"
   ]
  },
  {
   "cell_type": "code",
   "execution_count": 30,
   "id": "ab7fe751",
   "metadata": {},
   "outputs": [],
   "source": [
    "# 22\n",
    "def Bedrooms_Binned(x):\n",
    "    if x<3:\n",
    "        return 0 \n",
    "    elif (x>=3)and(x<6):\n",
    "        return 1\n",
    "    elif x>=6:\n",
    "        return 2\n",
    "data['Bedrooms_Binned'] = data['bedrooms'].apply(Bedrooms_Binned)"
   ]
  },
  {
   "cell_type": "code",
   "execution_count": 11,
   "id": "68e9b898",
   "metadata": {},
   "outputs": [
    {
     "data": {
      "text/plain": [
       "557850.4"
      ]
     },
     "execution_count": 11,
     "metadata": {},
     "output_type": "execute_result"
    }
   ],
   "source": [
    "df = data[data['Bedrooms_Binned']==1]\n",
    "round(df['price'].mean(),2)"
   ]
  },
  {
   "cell_type": "code",
   "execution_count": 29,
   "id": "87060183",
   "metadata": {},
   "outputs": [
    {
     "data": {
      "text/plain": [
       "<AxesSubplot:>"
      ]
     },
     "execution_count": 29,
     "metadata": {},
     "output_type": "execute_result"
    },
    {
     "data": {
      "image/png": "[encoded data removed]",
      "text/plain": [
       "<Figure size 432x288 with 1 Axes>"
      ]
     },
     "metadata": {
      "needs_background": "light"
     },
     "output_type": "display_data"
    }
   ],
   "source": [
    "# 23\n",
    "data = pd.read_csv('c.csv')\n",
    "data['sqft_living'].hist(bins=40)"
   ]
  },
  {
   "cell_type": "code",
   "execution_count": 59,
   "id": "605e4dc6",
   "metadata": {},
   "outputs": [
    {
     "data": {
      "text/plain": [
       "(254, 15)"
      ]
     },
     "execution_count": 59,
     "metadata": {},
     "output_type": "execute_result"
    }
   ],
   "source": [
    "# 24\n",
    "data = pd.read_csv('c.csv')\n",
    "mean = data['sqft_above'].mean()\n",
    "std = data['sqft_above'].std()\n",
    "b = mean - 3*std\n",
    "u = mean + 3*std\n",
    "data[(data['sqft_above']<b)|(data['sqft_above']>u)].shape"
   ]
  },
  {
   "cell_type": "code",
   "execution_count": 42,
   "id": "076d72ec",
   "metadata": {},
   "outputs": [
    {
     "data": {
      "text/html": [
       "<div>\n",
       "<style scoped>\n",
       "    .dataframe tbody tr th:only-of-type {\n",
       "        vertical-align: middle;\n",
       "    }\n",
       "\n",
       "    .dataframe tbody tr th {\n",
       "        vertical-align: top;\n",
       "    }\n",
       "\n",
       "    .dataframe thead th {\n",
       "        text-align: right;\n",
       "    }\n",
       "</style>\n",
       "<table border=\"1\" class=\"dataframe\">\n",
       "  <thead>\n",
       "    <tr style=\"text-align: right;\">\n",
       "      <th></th>\n",
       "      <th>sqft_lot</th>\n",
       "      <th>sqft_living</th>\n",
       "      <th>raz</th>\n",
       "    </tr>\n",
       "    <tr>\n",
       "      <th>condition</th>\n",
       "      <th></th>\n",
       "      <th></th>\n",
       "      <th></th>\n",
       "    </tr>\n",
       "  </thead>\n",
       "  <tbody>\n",
       "    <tr>\n",
       "      <th>5</th>\n",
       "      <td>13052.582011</td>\n",
       "      <td>2022.911229</td>\n",
       "      <td>11029.670782</td>\n",
       "    </tr>\n",
       "  </tbody>\n",
       "</table>\n",
       "</div>"
      ],
      "text/plain": [
       "               sqft_lot  sqft_living           raz\n",
       "condition                                         \n",
       "5          13052.582011  2022.911229  11029.670782"
      ]
     },
     "execution_count": 42,
     "metadata": {},
     "output_type": "execute_result"
    }
   ],
   "source": [
    "# 25\n",
    "df = data.groupby('condition')[['sqft_lot','sqft_living']].mean()\n",
    "df['raz'] = abs(df['sqft_lot']-df['sqft_living'])\n",
    "df[df['raz']==df['raz'].min()]"
   ]
  },
  {
   "cell_type": "code",
   "execution_count": 20,
   "id": "95a57157",
   "metadata": {},
   "outputs": [
    {
     "data": {
      "text/plain": [
       "sqft_lot       0.089661\n",
       "floors         0.256794\n",
       "bedrooms       0.308350\n",
       "bathrooms      0.525138\n",
       "sqft_living    0.702035\n",
       "price          1.000000\n",
       "Name: price, dtype: float64"
      ]
     },
     "execution_count": 20,
     "metadata": {},
     "output_type": "execute_result"
    }
   ],
   "source": [
    "# 26\n",
    "data[['price', 'sqft_living', 'sqft_lot', 'bedrooms', 'bathrooms', 'floors']].corr().abs()['price'].sort_values()"
   ]
  },
  {
   "cell_type": "code",
   "execution_count": 16,
   "id": "32bb52d5",
   "metadata": {},
   "outputs": [
    {
     "data": {
      "text/html": [
       "<div>\n",
       "<style scoped>\n",
       "    .dataframe tbody tr th:only-of-type {\n",
       "        vertical-align: middle;\n",
       "    }\n",
       "\n",
       "    .dataframe tbody tr th {\n",
       "        vertical-align: top;\n",
       "    }\n",
       "\n",
       "    .dataframe thead th {\n",
       "        text-align: right;\n",
       "    }\n",
       "</style>\n",
       "<table border=\"1\" class=\"dataframe\">\n",
       "  <thead>\n",
       "    <tr style=\"text-align: right;\">\n",
       "      <th></th>\n",
       "      <th>price</th>\n",
       "      <th>sqft_living</th>\n",
       "      <th>sqft_lot</th>\n",
       "      <th>bedrooms</th>\n",
       "      <th>bathrooms</th>\n",
       "      <th>floors</th>\n",
       "    </tr>\n",
       "  </thead>\n",
       "  <tbody>\n",
       "    <tr>\n",
       "      <th>price</th>\n",
       "      <td>1.000000</td>\n",
       "      <td>0.702035</td>\n",
       "      <td>0.089661</td>\n",
       "      <td>0.308350</td>\n",
       "      <td>0.525138</td>\n",
       "      <td>0.256794</td>\n",
       "    </tr>\n",
       "    <tr>\n",
       "      <th>sqft_living</th>\n",
       "      <td>0.702035</td>\n",
       "      <td>1.000000</td>\n",
       "      <td>0.172826</td>\n",
       "      <td>0.576671</td>\n",
       "      <td>0.754665</td>\n",
       "      <td>0.353949</td>\n",
       "    </tr>\n",
       "    <tr>\n",
       "      <th>sqft_lot</th>\n",
       "      <td>0.089661</td>\n",
       "      <td>0.172826</td>\n",
       "      <td>1.000000</td>\n",
       "      <td>0.031703</td>\n",
       "      <td>0.087740</td>\n",
       "      <td>-0.005201</td>\n",
       "    </tr>\n",
       "    <tr>\n",
       "      <th>bedrooms</th>\n",
       "      <td>0.308350</td>\n",
       "      <td>0.576671</td>\n",
       "      <td>0.031703</td>\n",
       "      <td>1.000000</td>\n",
       "      <td>0.515884</td>\n",
       "      <td>0.175429</td>\n",
       "    </tr>\n",
       "    <tr>\n",
       "      <th>bathrooms</th>\n",
       "      <td>0.525138</td>\n",
       "      <td>0.754665</td>\n",
       "      <td>0.087740</td>\n",
       "      <td>0.515884</td>\n",
       "      <td>1.000000</td>\n",
       "      <td>0.500653</td>\n",
       "    </tr>\n",
       "    <tr>\n",
       "      <th>floors</th>\n",
       "      <td>0.256794</td>\n",
       "      <td>0.353949</td>\n",
       "      <td>-0.005201</td>\n",
       "      <td>0.175429</td>\n",
       "      <td>0.500653</td>\n",
       "      <td>1.000000</td>\n",
       "    </tr>\n",
       "  </tbody>\n",
       "</table>\n",
       "</div>"
      ],
      "text/plain": [
       "                price  sqft_living  sqft_lot  bedrooms  bathrooms    floors\n",
       "price        1.000000     0.702035  0.089661  0.308350   0.525138  0.256794\n",
       "sqft_living  0.702035     1.000000  0.172826  0.576671   0.754665  0.353949\n",
       "sqft_lot     0.089661     0.172826  1.000000  0.031703   0.087740 -0.005201\n",
       "bedrooms     0.308350     0.576671  0.031703  1.000000   0.515884  0.175429\n",
       "bathrooms    0.525138     0.754665  0.087740  0.515884   1.000000  0.500653\n",
       "floors       0.256794     0.353949 -0.005201  0.175429   0.500653  1.000000"
      ]
     },
     "execution_count": 16,
     "metadata": {},
     "output_type": "execute_result"
    }
   ],
   "source": [
    "data[['price', 'sqft_living', 'sqft_lot', 'bedrooms', 'bathrooms', 'floors']].corr()"
   ]
  },
  {
   "cell_type": "code",
   "execution_count": 46,
   "id": "309a0734",
   "metadata": {},
   "outputs": [
    {
     "data": {
      "text/plain": [
       "0.7"
      ]
     },
     "execution_count": 46,
     "metadata": {},
     "output_type": "execute_result"
    }
   ],
   "source": [
    "round(0.702035,2)"
   ]
  },
  {
   "cell_type": "code",
   "execution_count": 51,
   "id": "67e410d4",
   "metadata": {},
   "outputs": [
    {
     "data": {
      "text/plain": [
       "<AxesSubplot:xlabel='condition'>"
      ]
     },
     "execution_count": 51,
     "metadata": {},
     "output_type": "execute_result"
    },
    {
     "data": {
      "image/png": "[encoded data removed]",
      "text/plain": [
       "<Figure size 432x288 with 1 Axes>"
      ]
     },
     "metadata": {
      "needs_background": "light"
     },
     "output_type": "display_data"
    }
   ],
   "source": [
    "import seaborn as sns\n",
    "sns.boxplot(x=data['condition'])"
   ]
  },
  {
   "cell_type": "code",
   "execution_count": null,
   "id": "3b1e6806",
   "metadata": {},
   "outputs": [],
   "source": []
  },
  {
   "cell_type": "code",
   "execution_count": null,
   "id": "96667c8a",
   "metadata": {},
   "outputs": [],
   "source": []
  }
 ],
 "metadata": {
  "kernelspec": {
   "display_name": "Python 3 (ipykernel)",
   "language": "python",
   "name": "python3"
  },
  "language_info": {
   "codemirror_mode": {
    "name": "ipython",
    "version": 3
   },
   "file_extension": ".py",
   "mimetype": "text/x-python",
   "name": "python",
   "nbconvert_exporter": "python",
   "pygments_lexer": "ipython3",
   "version": "3.9.7"
  }
 },
 "nbformat": 4,
 "nbformat_minor": 5
}
