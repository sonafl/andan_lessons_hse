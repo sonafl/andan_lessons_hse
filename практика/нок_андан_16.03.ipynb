{
 "cells": [
  {
   "cell_type": "code",
   "execution_count": 2,
   "id": "27a54be7",
   "metadata": {},
   "outputs": [],
   "source": [
    "import pandas as pd\n",
    "import numpy as np"
   ]
  },
  {
   "cell_type": "code",
   "execution_count": 2,
   "id": "643e6556",
   "metadata": {},
   "outputs": [
    {
     "data": {
      "text/plain": [
       "11.3235"
      ]
     },
     "execution_count": 2,
     "metadata": {},
     "output_type": "execute_result"
    }
   ],
   "source": [
    "# 16\n",
    "y= np.array([14.2,98.15,34.2,34.3,0.12,0.17,16.46,12.31])\n",
    "z = np.array([14.28,100.12, 32.0,30.30,0.30,0.18,17.87,4.32])\n",
    "((y-z)**2).sum()/8"
   ]
  },
  {
   "cell_type": "code",
   "execution_count": 3,
   "id": "8b2d2fd9",
   "metadata": {},
   "outputs": [
    {
     "data": {
      "text/plain": [
       "array([[ 1.        , -0.13239782],\n",
       "       [-0.13239782,  1.        ]])"
      ]
     },
     "execution_count": 3,
     "metadata": {},
     "output_type": "execute_result"
    }
   ],
   "source": [
    "# 17\n",
    "y= np.array([34,30,25,14,30])\n",
    "z = np.array([1212,1876,1901,1543,1754])\n",
    "np.corrcoef(y,z)"
   ]
  },
  {
   "cell_type": "code",
   "execution_count": 4,
   "id": "1dd27d34",
   "metadata": {},
   "outputs": [
    {
     "data": {
      "text/plain": [
       "-0.13"
      ]
     },
     "execution_count": 4,
     "metadata": {},
     "output_type": "execute_result"
    }
   ],
   "source": [
    "round(-0.13239782,2)"
   ]
  },
  {
   "cell_type": "code",
   "execution_count": 5,
   "id": "1146b491",
   "metadata": {},
   "outputs": [],
   "source": [
    "# 18\n",
    "y = np.array([254,1968,56,407])\n",
    "x = np.array([0.15,0.43,0.11,0.27])\n",
    "ssx = ((x-x.mean())**2).sum()\n",
    "ssp = ((x-x.mean())*(y-y.mean())).sum()\n",
    "w1 = ssp/ssx\n",
    "w0 = y.mean() - w1*x.mean()"
   ]
  },
  {
   "cell_type": "code",
   "execution_count": 6,
   "id": "5f9b0ed6",
   "metadata": {},
   "outputs": [
    {
     "data": {
      "text/plain": [
       "-43.82"
      ]
     },
     "execution_count": 6,
     "metadata": {},
     "output_type": "execute_result"
    }
   ],
   "source": [
    "round(w0*ssx,2)"
   ]
  },
  {
   "cell_type": "code",
   "execution_count": 7,
   "id": "46c5910b",
   "metadata": {},
   "outputs": [],
   "source": [
    "data = pd.read_csv('b (1).csv')"
   ]
  },
  {
   "cell_type": "code",
   "execution_count": 8,
   "id": "4f39ce3d",
   "metadata": {},
   "outputs": [
    {
     "data": {
      "text/plain": [
       "<AxesSubplot:xlabel='X', ylabel='Y'>"
      ]
     },
     "execution_count": 8,
     "metadata": {},
     "output_type": "execute_result"
    },
    {
     "data": {
      "image/png": "[encoded data removed]",
      "text/plain": [
       "<Figure size 432x288 with 1 Axes>"
      ]
     },
     "metadata": {
      "needs_background": "light"
     },
     "output_type": "display_data"
    }
   ],
   "source": [
    "data.plot('X','Y',kind = 'scatter')"
   ]
  },
  {
   "cell_type": "code",
   "execution_count": 5,
   "id": "3e4f1726",
   "metadata": {},
   "outputs": [],
   "source": [
    "data = pd.read_csv('c (1).csv')"
   ]
  },
  {
   "cell_type": "code",
   "execution_count": 4,
   "id": "38f6f56c",
   "metadata": {},
   "outputs": [
    {
     "data": {
      "text/plain": [
       "56527.48"
      ]
     },
     "execution_count": 4,
     "metadata": {},
     "output_type": "execute_result"
    }
   ],
   "source": [
    "# 20\n",
    "round(data['sqft_lot'].mean() + data['sqft_lot'].std(),2)"
   ]
  },
  {
   "cell_type": "code",
   "execution_count": 14,
   "id": "71cbfafe",
   "metadata": {},
   "outputs": [
    {
     "data": {
      "text/plain": [
       "0    7\n",
       "dtype: int64"
      ]
     },
     "execution_count": 14,
     "metadata": {},
     "output_type": "execute_result"
    }
   ],
   "source": [
    "data['grade'].mode()"
   ]
  },
  {
   "cell_type": "code",
   "execution_count": 16,
   "id": "05135e16",
   "metadata": {},
   "outputs": [
    {
     "data": {
      "text/plain": [
       "714684.64"
      ]
     },
     "execution_count": 16,
     "metadata": {},
     "output_type": "execute_result"
    }
   ],
   "source": [
    "def gr(x):\n",
    "    if x < 5:\n",
    "        return 0\n",
    "    elif x >= 5 and x < 8:\n",
    "        return 1\n",
    "    elif x >= 8:\n",
    "        return 2\n",
    "data['grade_binned'] = data.grade.apply(gr)\n",
    "round(data[data.grade_binned == 2]['price'].mean(), 2)"
   ]
  },
  {
   "cell_type": "code",
   "execution_count": 17,
   "id": "80888060",
   "metadata": {},
   "outputs": [
    {
     "data": {
      "text/plain": [
       "714684.64"
      ]
     },
     "execution_count": 17,
     "metadata": {},
     "output_type": "execute_result"
    }
   ],
   "source": [
    "df = data[data['grade_binned']==2]\n",
    "round(df['price'].mean(),2)"
   ]
  },
  {
   "cell_type": "code",
   "execution_count": 18,
   "id": "586e5a52",
   "metadata": {},
   "outputs": [
    {
     "data": {
      "text/plain": [
       "<AxesSubplot:>"
      ]
     },
     "execution_count": 18,
     "metadata": {},
     "output_type": "execute_result"
    },
    {
     "data": {
      "image/png": "[encoded data removed]",
      "text/plain": [
       "<Figure size 432x288 with 1 Axes>"
      ]
     },
     "metadata": {
      "needs_background": "light"
     },
     "output_type": "display_data"
    }
   ],
   "source": [
    "data['sqft_living'].hist(bins=30)"
   ]
  },
  {
   "cell_type": "code",
   "execution_count": 21,
   "id": "bce5de72",
   "metadata": {},
   "outputs": [
    {
     "data": {
      "text/plain": [
       "<AxesSubplot:>"
      ]
     },
     "execution_count": 21,
     "metadata": {},
     "output_type": "execute_result"
    },
    {
     "data": {
      "image/png": "[encoded data removed]",
      "text/plain": [
       "<Figure size 432x288 with 1 Axes>"
      ]
     },
     "metadata": {
      "needs_background": "light"
     },
     "output_type": "display_data"
    }
   ],
   "source": [
    "data['sqft_basement'].hist(bins=30)"
   ]
  },
  {
   "cell_type": "code",
   "execution_count": 26,
   "id": "1b689271",
   "metadata": {},
   "outputs": [
    {
     "data": {
      "text/plain": [
       "(247, 15)"
      ]
     },
     "execution_count": 26,
     "metadata": {},
     "output_type": "execute_result"
    }
   ],
   "source": [
    "# 24\n",
    "# 24\n",
    "mean = data['sqft_basement'].mean()\n",
    "std = data['sqft_basement'].std()\n",
    "b = mean - 3*std\n",
    "u = mean + 3*std\n",
    "data[(data['sqft_basement']<b)|(data['sqft_basement']>u)].shape"
   ]
  },
  {
   "cell_type": "code",
   "execution_count": 7,
   "id": "496c5475",
   "metadata": {},
   "outputs": [
    {
     "data": {
      "text/plain": [
       "Unnamed: 0       0.027372\n",
       "price            1.000000\n",
       "bedrooms         0.308350\n",
       "bathrooms        0.525138\n",
       "sqft_living      0.702035\n",
       "sqft_lot         0.089661\n",
       "floors           0.256794\n",
       "waterfront       0.266369\n",
       "view             0.397293\n",
       "condition        0.036362\n",
       "grade            0.667434\n",
       "sqft_above       0.605567\n",
       "sqft_basement    0.323816\n",
       "yr_built         0.054012\n",
       "yr_renovated     0.126434\n",
       "Name: price, dtype: float64"
      ]
     },
     "execution_count": 7,
     "metadata": {},
     "output_type": "execute_result"
    }
   ],
   "source": [
    "data.corr()['price']"
   ]
  },
  {
   "cell_type": "code",
   "execution_count": null,
   "id": "a4184a8e",
   "metadata": {},
   "outputs": [],
   "source": []
  }
 ],
 "metadata": {
  "kernelspec": {
   "display_name": "Python 3 (ipykernel)",
   "language": "python",
   "name": "python3"
  },
  "language_info": {
   "codemirror_mode": {
    "name": "ipython",
    "version": 3
   },
   "file_extension": ".py",
   "mimetype": "text/x-python",
   "name": "python",
   "nbconvert_exporter": "python",
   "pygments_lexer": "ipython3",
   "version": "3.9.7"
  }
 },
 "nbformat": 4,
 "nbformat_minor": 5
}
