{
 "cells": [
  {
   "cell_type": "code",
   "execution_count": null,
   "id": "286ab35f",
   "metadata": {},
   "outputs": [],
   "source": [
    "# 13 - рисуем графики, ищем сходства\n",
    "data.plot('сalories', 'protein', kind = 'scatter') - график рассеяния (задание 19)\n",
    "data[''].plot() - линейный график\n",
    "data[''].hist() - гистограмма \n",
    "data[''].hist(bins=число) - гистограмма с промежутком бинз равным какому-то числу\n",
    "data[''].value_counts().plot(kind='bar') - столбчатая \n",
    "data[''].value_counts().plot(kind='pie') - круговая\n",
    "data[''].plot(kind='box') - ящик с усами"
   ]
  },
  {
   "cell_type": "code",
   "execution_count": null,
   "id": "97d13ec6",
   "metadata": {},
   "outputs": [],
   "source": [
    "# 14 рисуем график рассеяния  - интерпретируем\n",
    "data.plot('сalories', 'protein', kind = 'scatter') "
   ]
  },
  {
   "cell_type": "code",
   "execution_count": null,
   "id": "c095e2d9",
   "metadata": {},
   "outputs": [],
   "source": [
    "# 15 \n",
    "#  МЕРЫ МЦТ\n",
    ".mean() - cреднее арифм - \"подходящая мцт для непрерывных или дискретных данных\" или \"найти долю в бинарной переменной\"\n",
    ".median() - медиана - серединка или \"укажите значение меньше или больше которого 50%\"\n",
    ".mode() - мода \"подходящая мцт для категориальных данных\"\n",
    "#. Меры разброса\n",
    ".std() - стандартное отклонение - МЕРА РАЗБРОСА ДЛЯ КОЛИЧЕСТВЕННЫХ ДАННЫХ\n",
    ".var() - дисперсия - мера разброса - корень стандартного отклонения - \n",
    ".max()-.min() - размах\n",
    ".quantile(.25) - 1 квартиль (Укажите значение, меньше которого 25% наблюдений признака )\n",
    ".quantile(.75) - 3 квартиль (Укажите значение, меньше которого 75% наблюдений признака, Укажите значение, больше которого 25% наблюдений признака )\n",
    ".quantile(.75) - .quantile(.25) - межквартильный размах (укажите значение в 50% )\n",
    ".nunique() - количество уникальных элементов - мера разброса для КАТЕГОРИАЛЬНЫХ ДАННЫХ \n",
    ".count() - количество"
   ]
  },
  {
   "cell_type": "code",
   "execution_count": null,
   "id": "76f97048",
   "metadata": {},
   "outputs": [],
   "source": [
    "# 16 - посчитать коэффициент корреляции (пример Среди признаков season, atemp и windspeed выберите те, между которыми можно рассчитать интерпретируемый коэффициент корреляции Пирсона. В ответ запишите найденное значение корреляции. Ответ округлите до двух знаков. \n",
    "data['age'].corr(data['avg_glucose_level'])\n",
    "# порядок столбцов не важен"
   ]
  },
  {
   "cell_type": "code",
   "execution_count": null,
   "id": "b5f9de4e",
   "metadata": {},
   "outputs": [],
   "source": [
    "# 17 Среди автомобилей  зарегистрированных в Армавире (Armavir; Region), найдите машину с самым ранним годом выпуска (Year).\n",
    "# делаем ДВЕ ФИЛЬТРАЦИИ\n",
    "# cначала находим автомобили  из армавира\n",
    "a = data[data['Region']=='Armavir']\n",
    "# сохраняем в отдельную таблицу а и ИЗ МАШИН АРМАВИРА ИЩЕМ С САМЫМ РАННИМ ГОДОМ\n",
    "a[a['Year']==a['Year'].min()] # год равен МИНИМАЛЬНОМУ ГОДУ"
   ]
  },
  {
   "cell_type": "code",
   "execution_count": null,
   "id": "42f24d43",
   "metadata": {},
   "outputs": [],
   "source": [
    "# 18. Укажите средний пробег (Mileage) автомобилей, выпущенных в XXI веке*. Ответ округлите до двух знаков.\n",
    "# делаем фильтрацию находим среднее\n",
    "data[data['Year']>2000]['Mileage'].mean()"
   ]
  },
  {
   "cell_type": "code",
   "execution_count": null,
   "id": "fa04931d",
   "metadata": {},
   "outputs": [],
   "source": [
    "# 19\n",
    "# abs - функция, которая находит модуль \n",
    "x = data.groupby('time')[['M1','M2']].mean() - любой метод\n",
    "x['raz'] = abs(x['M1'] - x['M2']) # любая арифм операция \n",
    "x['raz'].sort_values() # наименьшее в самом верху, наибольшее в самом низу"
   ]
  },
  {
   "cell_type": "code",
   "execution_count": null,
   "id": "c75ea9b2",
   "metadata": {},
   "outputs": [],
   "source": [
    "# 20\n",
    "def Bedrooms_Binned(x):\n",
    "    if x<3:\n",
    "        return 0 \n",
    "    elif (x>=3)and(x<6):\n",
    "        return 1\n",
    "    elif x>=6:\n",
    "        return 2\n",
    "data['Bedrooms_Binned'] = data['bedrooms'].apply(Bedrooms_Binned)\n",
    "\n",
    "# потом найти что-то в новом столбец: посчитать среднее или сделать фильтрацию\n",
    "data[data['Bedrooms_Binned']==1]['price'].mean()"
   ]
  },
  {
   "cell_type": "code",
   "execution_count": null,
   "id": "2aebdc7b",
   "metadata": {},
   "outputs": [],
   "source": [
    "# 21\n",
    "\n",
    "# 1 способ: интерквартильный размах\n",
    "q1 = data['avg_glucose_level'].quantile(.25)\n",
    "q3 = data['avg_glucose_level'].quantile(.75)\n",
    "iqr=q3-q1\n",
    "# Нижняя граница\n",
    "line1 = q1 - 1.5*iqr # коэф не меняется\n",
    "# Верхняя границы\n",
    "line2 = q3 + 1.5*iqr # коэф не меняется\n",
    "data[(data['avg_glucose_level'] <= line1)|(data['avg_glucose_level'] >= line2)] # количество строк и есть ответ\n",
    "\n",
    "# 2 способ: по среднеквадратичному отклонению\n",
    "mean = data['avg_glucose_level'].mean()\n",
    "std = data['avg_glucose_level'].std()\n",
    "# Нижняя граница\n",
    "b_line = mean - 2.5*std # коэф может меняться - см в условии\n",
    "# Верхняя граница\n",
    "u_line = mean + 2.5*std  # коэф может меняться - см в условии\n",
    "data[(data['avg_glucose_level'] <= b_line)|(data['avg_glucose_level'] >= u_line)] # количество строк и есть ответ\n"
   ]
  },
  {
   "cell_type": "code",
   "execution_count": null,
   "id": "9938c8a2",
   "metadata": {},
   "outputs": [],
   "source": [
    "# 22\n",
    "data.corr()"
   ]
  },
  {
   "cell_type": "code",
   "execution_count": null,
   "id": "d45410c0",
   "metadata": {},
   "outputs": [],
   "source": [
    "# если в условии перечисляют переменные\n",
    "data[['M2', 'M1', 'M3']].corr()"
   ]
  },
  {
   "cell_type": "code",
   "execution_count": null,
   "id": "883c64bf",
   "metadata": {},
   "outputs": [],
   "source": [
    "# можно всегда обратиться к столбцу и отсортировать, чтобы найти наибольшее быстрее\n",
    "data.corr()['M2'].sort_values()"
   ]
  },
  {
   "cell_type": "code",
   "execution_count": null,
   "id": "b3e048e4",
   "metadata": {},
   "outputs": [],
   "source": [
    "# 23\n",
    "import scipy.stats\n",
    "scipy.stats.linregress( data['danceability'], data['popularity']) # понять кто x, кто y в твоих данных. \n",
    "# x идет первым, y вторым"
   ]
  },
  {
   "cell_type": "markdown",
   "id": "550b9045",
   "metadata": {},
   "source": [
    "Этот код выведет следующий результат:\n",
    "    \n",
    "LinregressResult(slope=40.17824712530411, intercept=8.837367209571875, rvalue=0.5268424586059192, pvalue=2.570102730576202e-41, stderr=2.7440569206220564, intercept_stderr=1.039653805710734)"
   ]
  },
  {
   "cell_type": "markdown",
   "id": "7314768e",
   "metadata": {},
   "source": [
    "**slope=40.17824712530411 - коэффиент при независимой перменной (k)**\n",
    "\n",
    "**intercept=8.837367209571875 - константа, свободный коэффициент (b)**"
   ]
  },
  {
   "cell_type": "code",
   "execution_count": null,
   "id": "627f3ef2",
   "metadata": {},
   "outputs": [],
   "source": [
    "from sklearn.metrics import mean_squared_error, mean_absolute_error, r2_score\n",
    "# Y_pred = regress.slope * X + regress.intercept\n",
    "Y_pred = 40.17824712530411*X+8.837367209571875 \n",
    "mse = mean_squared_error(Y, Y_pred) # среднеквадритичная ошибка \n",
    "mae = mean_absolute_error(Y, Y_pred) # средняя абсолютная ошибка \n",
    "r2 = r2_score(Y, Y_pred)"
   ]
  }
 ],
 "metadata": {
  "kernelspec": {
   "display_name": "Python 3 (ipykernel)",
   "language": "python",
   "name": "python3"
  },
  "language_info": {
   "codemirror_mode": {
    "name": "ipython",
    "version": 3
   },
   "file_extension": ".py",
   "mimetype": "text/x-python",
   "name": "python",
   "nbconvert_exporter": "python",
   "pygments_lexer": "ipython3",
   "version": "3.9.7"
  }
 },
 "nbformat": 4,
 "nbformat_minor": 5
}
